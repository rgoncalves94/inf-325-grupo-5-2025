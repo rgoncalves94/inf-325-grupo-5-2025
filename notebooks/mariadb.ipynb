{
 "cells": [
  {
   "cell_type": "markdown",
   "metadata": {},
   "source": [
    "# Grupo 5 - Painel do Lojista - BD Relacional\n",
    "Integrantes\n",
    "\n",
    "- Bruno\n",
    "- Cristofer\n",
    "- Leonardo\n",
    "- Rafael\n",
    "\n"
   ]
  },
  {
   "cell_type": "code",
   "execution_count": 4,
   "metadata": {},
   "outputs": [
    {
     "data": {
      "text/html": [
       "<html><body><table border=\"1\" style=\"margin-left: 0\"><tr><th style=\"text-align:left;white-space:pre\">Database</th></tr><tr><td style=\"text-align:left;white-space:pre\">information_schema</td></tr><tr><td style=\"text-align:left;white-space:pre\">mysql</td></tr><tr><td style=\"text-align:left;white-space:pre\">performance_schema</td></tr><tr><td style=\"text-align:left;white-space:pre\">sys</td></tr></table></body></html>"
      ]
     },
     "metadata": {},
     "output_type": "display_data"
    }
   ],
   "source": [
    "show databases;"
   ]
  }
 ],
 "metadata": {
  "kernelspec": {
   "display_name": "MariaDB",
   "language": "SQL",
   "name": "mariadb_kernel"
  },
  "language_info": {
   "file_extension": ".sql",
   "mimetype": "text/plain",
   "name": "SQL"
  }
 },
 "nbformat": 4,
 "nbformat_minor": 4
}
