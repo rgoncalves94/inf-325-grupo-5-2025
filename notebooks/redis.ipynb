{
 "cells": [
  {
   "cell_type": "code",
   "execution_count": null,
   "id": "e3d5e45b",
   "metadata": {
    "vscode": {
     "languageId": "plaintext"
    }
   },
   "outputs": [],
   "source": [
    "# Grupo 5 - Painel do Lojista - cache para experiencia\n",
    "\n",
    "Este notebook permite executar comandos Redis nativamente nas células usando magic commands."
   ]
  },
  {
   "cell_type": "code",
   "execution_count": 35,
   "id": "13cb3a39-d6fb-41d7-9f5e-212691d788e1",
   "metadata": {},
   "outputs": [],
   "source": [
    "import redis\n",
    "db = redis.Redis(host = 'redis', port=6379)"
   ]
  },
  {
   "cell_type": "code",
   "execution_count": 1,
   "id": "95b15460",
   "metadata": {},
   "outputs": [],
   "source": [
    "%load_ext redis_command"
   ]
  },
  {
   "cell_type": "code",
   "execution_count": 2,
   "id": "3bee2793",
   "metadata": {
    "vscode": {
     "languageId": "plaintext"
    }
   },
   "outputs": [
    {
     "name": "stdout",
     "output_type": "stream",
     "text": [
      "PING\n",
      "True\n",
      "\n"
     ]
    }
   ],
   "source": [
    "%%redis\n",
    "\n",
    "PING"
   ]
  },
  {
   "cell_type": "code",
   "execution_count": 20,
   "id": "8b688ae6-5aed-4436-a4cd-10e9c117c682",
   "metadata": {},
   "outputs": [
    {
     "name": "stdout",
     "output_type": "stream",
     "text": [
      "SET marketplace.enabled true;\n",
      "b'OK'\n",
      "\n"
     ]
    }
   ],
   "source": [
    "%%redis\n",
    "\n",
    "SET marketplace.enabled true;"
   ]
  },
  {
   "cell_type": "code",
   "execution_count": 28,
   "id": "df620297-6cd5-4590-b88e-91a592ced458",
   "metadata": {},
   "outputs": [
    {
     "name": "stdout",
     "output_type": "stream",
     "text": [
      "get marketplace.enabled\n",
      "b'true;'\n",
      "\n"
     ]
    }
   ],
   "source": [
    "%%redis \n",
    "get marketplace.enabled"
   ]
  },
  {
   "cell_type": "code",
   "execution_count": 40,
   "id": "2621ee00-a0a0-4439-8e77-062405f3d682",
   "metadata": {},
   "outputs": [
    {
     "data": {
      "text/plain": [
       "[b'marketplace.enabled']"
      ]
     },
     "execution_count": 40,
     "metadata": {},
     "output_type": "execute_result"
    }
   ],
   "source": [
    "# python\n",
    "db.keys(\"marketplace.*\")"
   ]
  }
 ],
 "metadata": {
  "kernelspec": {
   "display_name": "Python 3 (ipykernel)",
   "language": "python",
   "name": "python3"
  },
  "language_info": {
   "codemirror_mode": {
    "name": "ipython",
    "version": 3
   },
   "file_extension": ".py",
   "mimetype": "text/x-python",
   "name": "python",
   "nbconvert_exporter": "python",
   "pygments_lexer": "ipython3",
   "version": "3.12.11"
  }
 },
 "nbformat": 4,
 "nbformat_minor": 5
}
