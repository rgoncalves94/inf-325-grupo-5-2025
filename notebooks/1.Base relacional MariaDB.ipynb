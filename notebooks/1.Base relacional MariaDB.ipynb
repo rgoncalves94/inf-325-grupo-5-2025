{
 "cells": [
  {
   "cell_type": "markdown",
   "id": "afba19bf-e7e0-4bed-94c5-b26fe92deb56",
   "metadata": {},
   "source": [
    "# Painel do lojista \n",
    "## Dashboard e acompanhamento de suas vendas, com seção de recomendações de melhorias para suas publicações.\n",
    "\n",
    "### Breve descrição\n",
    "\n",
    "Este notebook cria uma base de dados para um marketplace. Aqui encontrará o modelo lógico da base de dados, representando a parte transacional \n",
    "do projeto.\n",
    "\n",
    "Vamos trabalhar com a premissa de usar 2 replicas deste banco. Uma de escrita (master) e uma slave (de leitura).\n",
    "\n",
    "A replica slave será usada para realização de consultas mais pesadas para extração dos dados e inseridos num banco de dados de documento. Assim sendo possível \n",
    "    ter uma melhor performance para dados mais consolidados;"
   ]
  },
  {
   "cell_type": "markdown",
   "id": "cf97be2c-43b5-47bb-9f11-346f6351b9a1",
   "metadata": {},
   "source": [
    "### Criar banco marketplace_db e inserir dados"
   ]
  },
  {
   "cell_type": "code",
   "execution_count": null,
   "id": "f3ab8de3",
   "metadata": {
    "vscode": {
     "languageId": "sql"
    }
   },
   "outputs": [
    {
     "data": {
      "text/html": [
       "Query OK"
      ]
     },
     "metadata": {},
     "output_type": "display_data"
    }
   ],
   "source": [
    "-- resolver problemas em tempo de desenvolvimento\n",
    "DROP DATABASE IF EXISTS `marketplace_db`;"
   ]
  },
  {
   "cell_type": "code",
   "execution_count": 5,
   "id": "fb24986b-2e18-4649-89fc-2360b666efb1",
   "metadata": {
    "vscode": {
     "languageId": "sql"
    }
   },
   "outputs": [
    {
     "data": {
      "text/html": [
       "Query OK"
      ]
     },
     "metadata": {},
     "output_type": "display_data"
    }
   ],
   "source": [
    "-- Criação do Banco de Dados\n",
    "CREATE DATABASE IF NOT EXISTS `marketplace_db`;\n",
    "USE `marketplace_db`;\n",
    "\n",
    "-- -----------------------------------------------------\n",
    "-- Tabela `lojistas`\n",
    "-- -----------------------------------------------------\n",
    "CREATE TABLE IF NOT EXISTS `lojistas` (\n",
    "  `id` INT NOT NULL AUTO_INCREMENT,\n",
    "  `nome` VARCHAR(255) NOT NULL,\n",
    "  `email` VARCHAR(255) NOT NULL UNIQUE,\n",
    "  `dados_cadastrais` VARCHAR(255) NULL,\n",
    "  PRIMARY KEY (`id`));\n",
    "\n",
    "-- -----------------------------------------------------\n",
    "-- Tabela `clientes`\n",
    "-- -----------------------------------------------------\n",
    "CREATE TABLE IF NOT EXISTS `clientes` (\n",
    "  `id` INT NOT NULL AUTO_INCREMENT,\n",
    "  `nome` VARCHAR(255) NOT NULL,\n",
    "  `email` VARCHAR(255) NOT NULL UNIQUE,\n",
    "  `perfil` VARCHAR(45) NOT NULL DEFAULT 'padrão',\n",
    "  PRIMARY KEY (`id`));\n",
    "\n",
    "-- -----------------------------------------------------\n",
    "-- Tabela `categorias`\n",
    "-- -----------------------------------------------------\n",
    "CREATE TABLE IF NOT EXISTS `categorias` (\n",
    "  `id` INT NOT NULL AUTO_INCREMENT,\n",
    "  `nome` VARCHAR(255) NOT NULL,\n",
    "  PRIMARY KEY (`id`));\n",
    "\n",
    "-- -----------------------------------------------------\n",
    "-- Tabela `produtos`\n",
    "-- -----------------------------------------------------\n",
    "CREATE TABLE IF NOT EXISTS `produtos` (\n",
    "  `id` INT NOT NULL AUTO_INCREMENT,\n",
    "  `nome` VARCHAR(255) NOT NULL,\n",
    "  `preco` DECIMAL(10,2) NOT NULL,\n",
    "  `estoque` INT NOT NULL DEFAULT 0,\n",
    "  `lojista_id` INT NOT NULL,\n",
    "  `descricao` TEXT(4000) NULL,\n",
    "  PRIMARY KEY (`id`),\n",
    "  CONSTRAINT `fk_produtos_lojistas`\n",
    "    FOREIGN KEY (`lojista_id`)\n",
    "    REFERENCES `lojistas` (`id`)\n",
    ");\n",
    "\n",
    "-- -----------------------------------------------------\n",
    "-- Tabela associativa `produtos_categorias`\n",
    "-- -----------------------------------------------------\n",
    "CREATE TABLE IF NOT EXISTS `produtos_categorias` (\n",
    "  `produto_id` INT NOT NULL,\n",
    "  `categoria_id` INT NOT NULL,\n",
    "  PRIMARY KEY (`produto_id`, `categoria_id`),\n",
    "  CONSTRAINT `fk_prodcat_produtos`\n",
    "    FOREIGN KEY (`produto_id`)\n",
    "    REFERENCES `produtos` (`id`),\n",
    "  CONSTRAINT `fk_prodcat_categorias`\n",
    "    FOREIGN KEY (`categoria_id`)\n",
    "    REFERENCES `categorias` (`id`)\n",
    ");\n",
    "\n",
    "-- -----------------------------------------------------\n",
    "-- Tabela `pedidos`\n",
    "-- -----------------------------------------------------\n",
    "CREATE TABLE IF NOT EXISTS `pedidos` (\n",
    "  `id` INT NOT NULL AUTO_INCREMENT,\n",
    "  `cliente_id` INT NOT NULL,\n",
    "  `data` DATETIME NOT NULL,\n",
    "  `status` VARCHAR(45) NOT NULL,\n",
    "  PRIMARY KEY (`id`),\n",
    "  CONSTRAINT `fk_pedidos_clientes`\n",
    "    FOREIGN KEY (`cliente_id`)\n",
    "    REFERENCES `clientes` (`id`)\n",
    ");\n",
    "\n",
    "-- -----------------------------------------------------\n",
    "-- Tabela `itens_pedidos`\n",
    "-- -----------------------------------------------------\n",
    "CREATE TABLE IF NOT EXISTS `itens_pedidos` (\n",
    "  `pedido_id` INT NOT NULL,\n",
    "  `produto_id` INT NOT NULL,\n",
    "  `quantidade` INT NOT NULL,\n",
    "  `preco_unitario` DECIMAL(10,2) NOT NULL,\n",
    "  PRIMARY KEY (`pedido_id`, `produto_id`),\n",
    "  CONSTRAINT `fk_itens_pedidos`\n",
    "    FOREIGN KEY (`pedido_id`)\n",
    "    REFERENCES `pedidos` (`id`),\n",
    "  CONSTRAINT `fk_itens_produtos`\n",
    "    FOREIGN KEY (`produto_id`)\n",
    "    REFERENCES `produtos` (`id`)\n",
    ");\n",
    "\n",
    "-- -----------------------------------------------------\n",
    "-- Tabela `Avaliacoes`\n",
    "-- -----------------------------------------------------\n",
    "CREATE TABLE IF NOT EXISTS `avaliacoes` (\n",
    "  `id` INT NOT NULL AUTO_INCREMENT,\n",
    "  `cliente_id` INT NOT NULL,\n",
    "  `produto_id` INT NOT NULL,\n",
    "  `nota` INT NOT NULL,\n",
    "  `comentario` TEXT NULL,\n",
    "  `data` DATETIME NOT NULL,\n",
    "  PRIMARY KEY (`id`),\n",
    "  CONSTRAINT `fk_avaliacoes_clientes`\n",
    "    FOREIGN KEY (`cliente_id`)\n",
    "    REFERENCES `clientes` (`id`),\n",
    "  CONSTRAINT `fk_avaliacoes_produtos`\n",
    "    FOREIGN KEY (`produto_id`)\n",
    "    REFERENCES `produtos` (`id`)\n",
    ");\n",
    "\n",
    "-- -----------------------------------------------------\n",
    "-- Tabela `precos`\n",
    "-- -----------------------------------------------------\n",
    "CREATE TABLE IF NOT EXISTS `precos` (\n",
    "  `id` INT NOT NULL AUTO_INCREMENT,\n",
    "  `produto_id` INT NOT NULL,\n",
    "  `valor` DECIMAL(10,2) NOT NULL,\n",
    "  `tipo_preco` VARCHAR(45) NOT NULL,\n",
    "  `data_inicio_vigencia` DATE NOT NULL,\n",
    "  `data_fim_vigencia` DATE NULL,\n",
    "  `ativo` BOOLEAN NOT NULL,\n",
    "  `data_criacao` TIMESTAMP NOT NULL DEFAULT CURRENT_TIMESTAMP,\n",
    "  PRIMARY KEY (`id`),\n",
    "  CONSTRAINT `fk_precos_produtos`\n",
    "    FOREIGN KEY (`produto_id`)\n",
    "    REFERENCES `produtos` (`id`)\n",
    ");\n",
    "\n",
    "-- -----------------------------------------------------\n",
    "-- Tabela `reclamacoes`\n",
    "-- -----------------------------------------------------\n",
    "CREATE TABLE IF NOT EXISTS `reclamacoes` (\n",
    "  `id` INT NOT NULL AUTO_INCREMENT,\n",
    "  `pedido_id` INT NOT NULL,\n",
    "  `produto_id` INT NOT NULL,\n",
    "  `titulo` VARCHAR(255) NOT NULL,\n",
    "  `texto` TEXT NULL,\n",
    "  `data` DATETIME NOT NULL,\n",
    "  PRIMARY KEY (`id`),\n",
    "  CONSTRAINT `fk_reclamacoes_pedidos`\n",
    "    FOREIGN KEY (`pedido_id`)\n",
    "    REFERENCES `pedidos` (`id`),\n",
    "  CONSTRAINT `fk_reclamacoes_produtos`\n",
    "    FOREIGN KEY (`produto_id`)\n",
    "    REFERENCES `produtos` (`id`)\n",
    ");\n",
    "\n",
    "-- -----------------------------------------------------\n",
    "-- Tabela `transacoes`\n",
    "-- -----------------------------------------------------\n",
    "CREATE TABLE IF NOT EXISTS `transacoes` (\n",
    "  `id` INT NOT NULL AUTO_INCREMENT,\n",
    "  `lojista_id` INT NOT NULL,\n",
    "  `valor` DECIMAL(10,2) NOT NULL,\n",
    "  `tipo` VARCHAR(45) NOT NULL,\n",
    "  `data` DATETIME NOT NULL,\n",
    "  PRIMARY KEY (`id`),\n",
    "  CONSTRAINT `fk_transacoes_lojistas`\n",
    "    FOREIGN KEY (`lojista_id`)\n",
    "    REFERENCES `lojistas` (`id`)\n",
    ");\n"
   ]
  },
  {
   "cell_type": "code",
   "execution_count": null,
   "id": "33fc63e0",
   "metadata": {
    "vscode": {
     "languageId": "sql"
    }
   },
   "outputs": [],
   "source": [
    "-- Criar inserts aqui"
   ]
  },
  {
   "cell_type": "markdown",
   "id": "eebf427d",
   "metadata": {},
   "source": [
    "## Adicionando registros"
   ]
  },
  {
   "cell_type": "code",
   "execution_count": null,
   "id": "c83e30ce",
   "metadata": {
    "vscode": {
     "languageId": "sql"
    }
   },
   "outputs": [],
   "source": [
    "-- Lojistas (2 registros)\n",
    "INSERT INTO `Lojistas` (`nome`, `email`, `dados_cadastrais`) VALUES\n",
    "('TecnoLoja Ltda', 'contato@tecnoloja.com', 'CNPJ: 11.222.333/0001-44'),\n",
    "('Casa & Cia', 'vendas@casaecia.com', 'CNPJ: 55.666.777/0001-88');\n",
    "\n",
    "-- Clientes (20 registros)\n",
    "INSERT INTO `Clientes` (`nome`, `email`, `perfil`) VALUES\n",
    "('João Silva', 'joao.silva@email.com', 'padrão'), ('Maria Oliveira', 'maria.oliveira@email.com', 'vip'),\n",
    "('Carlos Pereira', 'carlos.p@email.com', 'padrão'), ('Ana Costa', 'ana.costa@email.com', 'padrão'),\n",
    "('Pedro Martins', 'pedro.m@email.com', 'vip'), ('Sandra Ferreira', 'sandra.f@email.com', 'padrão'),\n",
    "('Lucas Gomes', 'lucas.g@email.com', 'padrão'), ('Juliana Rodrigues', 'juliana.r@email.com', 'padrão'),\n",
    "('Gabriel Almeida', 'gabriel.a@email.com', 'vip'), ('Beatriz Barbosa', 'beatriz.b@email.com', 'padrão'),\n",
    "('Marcos Souza', 'marcos.s@email.com', 'padrão'), ('Fernanda Lima', 'fernanda.l@email.com', 'padrão'),\n",
    "('Rafael Nunes', 'rafael.n@email.com', 'padrão'), ('Camila Santos', 'camila.s@email.com', 'vip'),\n",
    "('Tiago Mendes', 'tiago.m@email.com', 'padrão'), ('Larissa Castro', 'larissa.c@email.com', 'padrão'),\n",
    "('Bruno Ribeiro', 'bruno.r@email.com', 'padrão'), ('Patrícia Rocha', 'patricia.r@email.com', 'padrão'),\n",
    "('Felipe Jesus', 'felipe.j@email.com', 'padrão'), ('Amanda Dias', 'amanda.d@email.com', 'vip');\n",
    "\n",
    "-- Categorias (5 registros)\n",
    "INSERT INTO `Categorias` (`nome`) VALUES\n",
    "('Eletrônicos'), ('Móveis'), ('Eletrodomésticos'), ('Informática'), ('Decoração');\n",
    "\n",
    "-- Produtos (20 registros)\n",
    "INSERT INTO `Produtos` (`nome`, `preco`, `estoque`, `lojista_id`) VALUES\n",
    "('Smartphone X', 2999.90, 50, 1), ('Notebook Pro', 7499.50, 30, 1), ('Smart TV 50\"', 3200.00, 40, 1),\n",
    "('Fone Bluetooth', 499.99, 150, 1), ('Cadeira Gamer', 1200.00, 25, 1), ('Teclado Mecânico', 350.00, 80, 1),\n",
    "('Mouse sem Fio', 150.00, 200, 1), ('Monitor 27\" 4K', 2800.00, 35, 1), ('Webcam Full HD', 450.00, 60, 1),\n",
    "('Impressora Multifuncional', 899.00, 45, 1), ('Sofá 3 Lugares', 2500.00, 20, 2), ('Mesa de Jantar', 1800.00, 15, 2),\n",
    "('Guarda-Roupa Casal', 2200.00, 18, 2), ('Geladeira Frost Free', 3800.00, 22, 2), ('Fogão 5 Bocas', 1500.00, 30, 2),\n",
    "('Micro-ondas', 750.00, 50, 2), ('Lava e Seca 11kg', 4200.00, 12, 2), ('Luminária de Chão', 380.50, 40, 2),\n",
    "('Conjunto de Panelas', 550.00, 60, 2), ('Tapete Sala 2x3m', 480.00, 25, 2);\n",
    "\n",
    "-- ProdutosCategorias (25 registros)\n",
    "INSERT INTO `ProdutosCategorias` (`produto_id`, `categoria_id`) VALUES\n",
    "(1, 1), (2, 1), (2, 4), (3, 1), (3, 3), (4, 1), (5, 2), (5, 4), (6, 4),\n",
    "(7, 4), (8, 4), (9, 4), (10, 4), (11, 2), (12, 2), (13, 2), (14, 3),\n",
    "(15, 3), (16, 3), (17, 3), (18, 5), (19, 3), (20, 5), (1, 4), (18, 2);\n",
    "\n",
    "-- Pedidos (20 registros)\n",
    "INSERT INTO `Pedidos` (`cliente_id`, `data`, `status`) VALUES\n",
    "(1, '2025-06-01 10:00:00', 'Entregue'), (2, '2025-06-02 11:30:00', 'Enviado'),\n",
    "(3, '2025-06-03 14:00:00', 'Processando'), (4, '2025-06-04 09:00:00', 'Entregue'),\n",
    "(5, '2025-06-05 18:00:00', 'Enviado'), (6, '2025-06-06 20:00:00', 'Entregue'),\n",
    "(7, '2025-06-07 22:15:00', 'Cancelado'), (8, '2025-06-08 12:00:00', 'Entregue'),\n",
    "(9, '2025-06-09 13:45:00', 'Processando'), (10, '2025-06-10 16:00:00', 'Enviado'),\n",
    "(11, '2025-06-11 17:20:00', 'Entregue'), (12, '2025-06-12 10:10:00', 'Entregue'),\n",
    "(13, '2025-06-13 08:00:00', 'Enviado'), (14, '2025-06-14 11:00:00', 'Processando'),\n",
    "(15, '2025-06-15 15:30:00', 'Entregue'), (16, '2025-06-16 19:00:00', 'Enviado'),\n",
    "(17, '2025-06-17 21:00:00', 'Entregue'), (18, '2025-06-18 23:00:00', 'Entregue'),\n",
    "(19, '2025-06-19 09:30:00', 'Processando'), (20, '2025-06-20 14:00:00', 'Enviado');\n",
    "\n",
    "-- ItensPedidos (25 registros)\n",
    "INSERT INTO `ItensPedidos` (`pedido_id`, `produto_id`, `quantidade`, `preco_unitario`) VALUES\n",
    "(1, 1, 1, 2999.90), (1, 4, 2, 499.99), (2, 11, 1, 2500.00), (3, 2, 1, 7499.50),\n",
    "(4, 15, 1, 1500.00), (4, 16, 1, 750.00), (5, 5, 1, 1200.00), (6, 20, 1, 480.00),\n",
    "(8, 14, 1, 3800.00), (9, 3, 1, 3200.00), (10, 18, 2, 380.50), (11, 7, 3, 150.00),\n",
    "(12, 12, 1, 1800.00), (13, 8, 1, 2800.00), (14, 17, 1, 4200.00), (15, 6, 1, 350.00),\n",
    "(16, 19, 1, 550.00), (17, 9, 1, 450.00), (18, 10, 1, 899.00), (19, 13, 1, 2200.00),\n",
    "(20, 1, 1, 2999.90), (20, 6, 1, 350.00), (2, 19, 2, 550.00), (5, 7, 2, 150.00),\n",
    "(11, 4, 1, 499.99);\n",
    "\n",
    "-- Transacoes (20 registros)\n",
    "INSERT INTO `Transacoes` (`lojista_id`, `valor`, `tipo`, `data`) VALUES\n",
    "(1, 3999.89, 'Venda', '2025-06-01 10:05:00'), (2, 2500.00, 'Venda', '2025-06-02 11:35:00'),\n",
    "(1, 7499.50, 'Venda', '2025-06-03 14:05:00'), (2, 2250.00, 'Venda', '2025-06-04 09:05:00'),\n",
    "(1, 1200.00, 'Venda', '2025-06-05 18:05:00'), (2, 480.00, 'Venda', '2025-06-06 20:05:00'),\n",
    "(2, 3800.00, 'Venda', '2025-06-08 12:05:00'), (1, 3200.00, 'Venda', '2025-06-09 13:50:00'),\n",
    "(2, 761.00, 'Venda', '2025-06-10 16:05:00'), (1, 450.00, 'Venda', '2025-06-11 17:25:00'),\n",
    "(2, 1800.00, 'Venda', '2025-06-12 10:15:00'), (1, 2800.00, 'Venda', '2025-06-13 08:05:00'),\n",
    "(2, 4200.00, 'Venda', '2025-06-14 11:05:00'), (1, 350.00, 'Venda', '2025-06-15 15:35:00'),\n",
    "(2, 550.00, 'Venda', '2025-06-16 19:05:00'), (1, 450.00, 'Venda', '2025-06-17 21:05:00'),\n",
    "(1, 899.00, 'Venda', '2025-06-18 23:05:00'), (2, 2200.00, 'Venda', '2025-06-19 09:35:00'),\n",
    "(1, 3349.90, 'Venda', '2025-06-20 14:05:00'), (2, -500.00, 'Taxa Mensal', '2025-06-30 23:59:59');\n",
    "\n",
    "-- Avaliacoes (20 registros)\n",
    "INSERT INTO `Avaliacoes` (`cliente_id`, `produto_id`, `nota`, `comentario`, `data`) VALUES\n",
    "(1, 1, 5, 'Excelente produto!', '2025-06-05 10:00:00'),\n",
    "(1, 4, 4, 'Bom, mas a bateria poderia durar mais.', '2025-06-05 10:01:00'),\n",
    "(4, 15, 2, 'Fogão veio com um batedor quebrado.', '2025-06-08 14:00:00'),\n",
    "(4, 16, 3, 'Apenas ok.', '2025-06-08 14:01:00'),\n",
    "(6, 20, 1, 'Qualidade muito ruim, desbotou na primeira semana.', '2025-06-10 09:00:00'),\n",
    "(8, 14, 5, 'Geladeira espaçosa e silenciosa. Adorei!', '2025-06-12 18:00:00'),\n",
    "(11, 7, 5, 'Mouse muito preciso.', '2025-06-15 11:00:00'),\n",
    "(12, 12, 4, 'Bonita, mas difícil de montar.', '2025-06-16 12:00:00'),\n",
    "(15, 6, 2, 'As teclas são muito barulhentas.', '2025-06-19 13:00:00'),\n",
    "(17, 9, 4, 'Boa imagem, mas o software é um pouco lento.', '2025-06-21 15:00:00'),\n",
    "(18, 10, 5, 'Funciona perfeitamente.', '2025-06-22 16:00:00'),\n",
    "(2, 11, 4, 'Confortável, mas o tecido esquenta.', '2025-06-07 10:00:00'),\n",
    "(3, 2, 5, 'Máquina incrível para trabalho.', '2025-06-08 11:00:00'),\n",
    "(5, 5, 2, 'Não é tão confortável quanto parece.', '2025-06-10 12:00:00'),\n",
    "(9, 3, 5, 'Imagem fantástica!', '2025-06-14 14:00:00'),\n",
    "(10, 18, 3, 'A luz é mais fraca do que o esperado.', '2025-06-15 15:00:00'),\n",
    "(13, 8, 4, 'Ótimo monitor, cores vibrantes.', '2025-06-18 18:00:00'),\n",
    "(14, 17, 5, 'Superou minhas expectativas.', '2025-06-19 19:00:00'),\n",
    "(16, 19, 1, 'O teflon descascou muito rápido.', '2025-06-21 20:00:00'),\n",
    "(20, 1, 5, 'Melhor celular que já tive!', '2025-06-25 21:00:00');\n",
    "\n",
    "-- Reclamacoes (5 registros de exemplo)\n",
    "INSERT INTO `Reclamacoes` (`cliente_id`, `produto_id`, `titulo`, `texto`, `data`) VALUES\n",
    "(4, 15, 'Produto com defeito', 'O fogão chegou com um dos queimadores amassado e não funciona.', '2025-06-09 09:30:00'),\n",
    "(6, 20, 'Produto de baixa qualidade', 'O tapete começou a soltar fios e desbotar com menos de um mês de uso.', '2025-06-11 10:00:00'),\n",
    "(15, 6, 'Produto barulhento', 'O teclado é vendido como silencioso, mas faz muito barulho ao digitar.', '2025-06-20 11:00:00'),\n",
    "(16, 19, 'Teflon de péssima qualidade', 'As panelas já estão descascando com pouquíssimo uso. Impossível cozinhar.', '2025-06-22 14:00:00'),\n",
    "(5, 5, 'Cadeira desconfortável', 'A descrição prometia conforto, mas a cadeira é dura e causa dor nas costas.', '2025-06-11 15:00:00');\n",
    "\n",
    "-- Precos (20 registros)\n",
    "INSERT INTO `Precos` (`ProdutoID`, `Valor`, `TipoPreco`, `DataInicioVigencia`, `DataFimVigencia`, `Ativo`) VALUES\n",
    "(1, 3299.90, 'Base', '2025-01-01', NULL, 0), (1, 2999.90, 'Promocional', '2025-05-20', '2025-07-20', 1),\n",
    "(2, 7999.00, 'Base', '2025-01-01', NULL, 0), (2, 7499.50, 'Promocional', '2025-06-01', '2025-06-30', 1),\n",
    "(3, 3200.00, 'Base', '2025-03-01', NULL, 1),\n",
    "(4, 499.99, 'Base', '2025-02-01', NULL, 1),\n",
    "(5, 1200.00, 'Base', '2025-04-01', NULL, 1),\n",
    "(6, 399.00, 'Base', '2025-01-01', NULL, 0), (6, 350.00, 'Queima de Estoque', '2025-05-01', NULL, 1),\n",
    "(11, 2800.00, 'Base', '2025-01-01', NULL, 0), (11, 2500.00, 'Promocional', '2025-06-01', '2025-07-01', 1),\n",
    "(14, 4100.00, 'Base', '2025-02-01', NULL, 0), (14, 3800.00, 'Oferta', '2025-05-15', '2025-06-15', 1),\n",
    "(15, 1650.00, 'Base', '2025-02-01', NULL, 0), (15, 1500.00, 'Oferta', '2025-05-15', '2025-06-15', 1),\n",
    "(20, 520.00, 'Base', '2025-03-01', NULL, 0), (20, 480.00, 'Promocional', '2025-06-01', '2025-06-10', 1),\n",
    "(19, 600.00, 'Base', '2025-01-01', NULL, 0), (19, 550.00, 'Oferta', '2025-06-15', '2025-06-25', 1),\n",
    "(17, 4200.00, 'Base', '2025-04-10', NULL, 1);"
   ]
  },
  {
   "cell_type": "markdown",
   "id": "0948b717-327b-4062-9dee-ac38523d26b1",
   "metadata": {},
   "source": [
    "### 1. Total de Vendas por Lojista"
   ]
  },
  {
   "cell_type": "code",
   "execution_count": null,
   "id": "c3ab8700-192b-4cae-a161-67da48d38535",
   "metadata": {
    "vscode": {
     "languageId": "sql"
    }
   },
   "outputs": [],
   "source": [
    "SELECT\n",
    "    l.lojista_id ID,\n",
    "    l.nome AS Lojista,\n",
    "    SUM(ip.quantidade * ip.preco_unitario) AS TotalVendido\n",
    "FROM\n",
    "    Lojistas l\n",
    "JOIN\n",
    "    Produtos p ON l.lojista_id = p.lojista_id\n",
    "JOIN\n",
    "    ItensPedidos ip ON p.produto_id = ip.produto_id\n",
    "GROUP BY\n",
    "    l.nome\n",
    "ORDER BY\n",
    "    TotalVendido DESC;"
   ]
  },
  {
   "cell_type": "markdown",
   "id": "b2563e26-4239-491a-93c9-6198aa9ba5f8",
   "metadata": {},
   "source": [
    "### 2. Top 10 Produtos Mais Vendidos"
   ]
  },
  {
   "cell_type": "code",
   "execution_count": null,
   "id": "c816e00d-835c-4b72-bc5a-7e434e6cc5ba",
   "metadata": {
    "vscode": {
     "languageId": "sql"
    }
   },
   "outputs": [],
   "source": [
    "SELECT\n",
    "    p.nome AS Produto,\n",
    "    SUM(ip.quantidade) AS QuantidadeVendida\n",
    "FROM\n",
    "    ItensPedidos ip\n",
    "JOIN\n",
    "    Produtos p ON ip.produto_id = p.produto_id\n",
    "GROUP BY\n",
    "    p.produto_id, p.nome\n",
    "ORDER BY\n",
    "    QuantidadeVendida DESC\n",
    "LIMIT 10;"
   ]
  },
  {
   "cell_type": "markdown",
   "id": "c67a11ef-77ea-4705-8ac6-de695626e376",
   "metadata": {},
   "source": [
    "### 3. Alerta de Estoque Baixo"
   ]
  },
  {
   "cell_type": "code",
   "execution_count": null,
   "id": "744bd187-350b-495d-8cb3-c335d2341560",
   "metadata": {
    "vscode": {
     "languageId": "sql"
    }
   },
   "outputs": [],
   "source": [
    "SELECT\n",
    "    p.nome AS Produto,\n",
    "    p.estoque,\n",
    "    l.nome AS Lojista\n",
    "FROM\n",
    "    Produtos p\n",
    "JOIN\n",
    "    Lojistas l ON p.lojista_id = l.lojista_id\n",
    "WHERE\n",
    "    p.estoque < 30\n",
    "ORDER BY\n",
    "    p.estoque ASC;"
   ]
  },
  {
   "cell_type": "markdown",
   "id": "9c357d3b-50b4-4bbd-b255-b130c82bfc29",
   "metadata": {},
   "source": [
    "### 4. Avaliação Média dos Produtos com Baixo Desempenho"
   ]
  },
  {
   "cell_type": "code",
   "execution_count": null,
   "id": "25775e2b-40cb-410d-81d6-e991bb2302d9",
   "metadata": {
    "vscode": {
     "languageId": "sql"
    }
   },
   "outputs": [],
   "source": [
    "SELECT\n",
    "    l.lojista_id,\n",
    "    p.nome AS Produto,\n",
    "    l.nome AS Lojista,\n",
    "    AVG(a.nota) AS MediaDeAvaliacoes,\n",
    "    COUNT(a.avaliacao_id) AS QuantidadeDeAvaliacoes\n",
    "FROM\n",
    "    Produtos p\n",
    "JOIN\n",
    "    Avaliacoes a ON p.produto_id = a.produto_id\n",
    "JOIN\n",
    "    Lojistas l ON p.lojista_id = l.lojista_id\n",
    "GROUP BY\n",
    "    p.produto_id, p.nome, l.nome\n",
    "HAVING\n",
    "    MediaDeAvaliacoes < 3\n",
    "ORDER BY\n",
    "    MediaDeAvaliacoes ASC;"
   ]
  },
  {
   "cell_type": "markdown",
   "id": "6469c627-dcda-4293-92bd-4abf3a12bd83",
   "metadata": {},
   "source": [
    "### 5. Clientes Mais Valiosos (Top 5)"
   ]
  },
  {
   "cell_type": "code",
   "execution_count": null,
   "id": "c0cce6ea-cd34-4f63-b6c6-145088094626",
   "metadata": {
    "vscode": {
     "languageId": "sql"
    }
   },
   "outputs": [],
   "source": [
    "SELECT\n",
    "    c.nome AS Cliente,\n",
    "    c.email,\n",
    "    SUM(ip.quantidade * ip.preco_unitario) AS TotalGasto\n",
    "FROM\n",
    "    Clientes c\n",
    "JOIN\n",
    "    Pedidos pd ON c.cliente_id = pd.cliente_id\n",
    "JOIN\n",
    "    ItensPedidos ip ON pd.pedido_id = ip.pedido_id\n",
    "GROUP BY\n",
    "    c.cliente_id, c.nome, c.email\n",
    "ORDER BY\n",
    "    TotalGasto DESC\n",
    "LIMIT 5;"
   ]
  }
 ],
 "metadata": {
  "kernelspec": {
   "display_name": "MariaDB",
   "language": "SQL",
   "name": "mariadb_kernel"
  },
  "language_info": {
   "file_extension": ".sql",
   "mimetype": "text/plain",
   "name": "SQL"
  }
 },
 "nbformat": 4,
 "nbformat_minor": 5
}
