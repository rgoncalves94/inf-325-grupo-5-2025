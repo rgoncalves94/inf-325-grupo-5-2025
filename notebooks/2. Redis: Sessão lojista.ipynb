{
 "cells": [
  {
   "cell_type": "markdown",
   "id": "d46bef6b-d156-4cc4-9bf6-cb87ce1f7995",
   "metadata": {},
   "source": [
    "# Painel do lojista - INF 325 - Grupo 5\n",
    "\n",
    "Este notebook cria uma base de dados para um marketplace. Aqui encontrará o modelo lógico da base de dados, representando a parte de cache do projeto.\n",
    "\n",
    "O arquivo está organizado da seguinte forma:\n",
    "\n",
    "- [1. Intro](#1-intro)\n",
    "- [2. Conexão com o Redis](#2-criação-do-banco-de-dados)\n",
    "- [3. Criando chave de sessão e dados do lojista logado](#3-inserindo-registros)\n",
    "- [4. Recuperando dados que serão exibidos em tela](#4-queries-usadas-na-featuretela)"
   ]
  },
  {
   "cell_type": "markdown",
   "id": "4a711d66",
   "metadata": {},
   "source": [
    "## 1. Intro\n",
    "\n",
    "Este arquivo define a estrutura de chaves usadas em uma sessão de usuário armazenada no Redis. (simulando token `SESSION_ABCDEF123456`)\n",
    "\n",
    "Os dados armazenados nessa sessão fictícia, posteriormente será utilizada para carregamento da identificação do lojista em tela e posteriormente utilizado nas clausulas WHERE e $MATCH (mariadb e mongodb)\n",
    "\n",
    "![Sessão do usuário](./assets/sessao.png)"
   ]
  },
  {
   "cell_type": "markdown",
   "id": "134e5dee-aab7-4a6d-91ba-81004fe1cce3",
   "metadata": {},
   "source": [
    "## 2. Conexão com o Redis"
   ]
  },
  {
   "cell_type": "code",
   "execution_count": 1,
   "id": "293e55ef-78f5-463a-a0ad-670b984f7757",
   "metadata": {},
   "outputs": [],
   "source": [
    "import redis\n",
    "conn_redis = redis.Redis(host = 'redis', port=6379)"
   ]
  },
  {
   "cell_type": "markdown",
   "id": "8b46cb4d",
   "metadata": {},
   "source": [
    "## 3. Criando chave de sessão e dados do lojista logado"
   ]
  },
  {
   "cell_type": "code",
   "execution_count": 2,
   "id": "6adbcc53-c3d5-4122-b707-454e4b96b21b",
   "metadata": {},
   "outputs": [],
   "source": [
    "# Token de sessão simulado: SESSION_ABCDEF123456\n",
    "\n",
    "## Carregando dados na sessão pós login\n",
    "\n",
    "conn_redis.hset(\"sessions.SESSION_ABCDEF123456\", mapping={\n",
    "    \"lojista_id\": \"1\",\n",
    "    \"lojista_nome\": \"TecnoLoja LTDA.\", \n",
    "    \"lojista_dados_cadastrais\": \"foo bar\"\n",
    "});\n",
    "\n",
    "# TTL da sessão\n",
    "conn_redis.expire(\"sessions.SESSION_ABCDEF123456\", 3600);"
   ]
  },
  {
   "cell_type": "markdown",
   "id": "3a490583",
   "metadata": {},
   "source": [
    "## 4. Recuperando dados que serão exibidos em tela"
   ]
  },
  {
   "cell_type": "code",
   "execution_count": null,
   "id": "228a90f7-e469-424e-b1f1-e434930b5535",
   "metadata": {},
   "outputs": [
    {
     "name": "stdout",
     "output_type": "stream",
     "text": [
      "Id do lojista: 1\n",
      "Nome do lojista: TecnoLoja LTDA.\n",
      "TTL restante: 3589\n"
     ]
    }
   ],
   "source": [
    "## Os dados abaixo serão exibidos em tela\n",
    "\n",
    "print(f\"Id do lojista: {conn_redis.hget(\"sessions.SESSION_ABCDEF123456\", \"lojista_id\").decode(\"utf-8\")}\")\n",
    "print(f\"Nome do lojista: {conn_redis.hget(\"sessions.SESSION_ABCDEF123456\", \"lojista_nome\").decode(\"utf-8\")}\")\n",
    "print(f\"TTL restante: {conn_redis.ttl(\"sessions.SESSION_ABCDEF123456\")}\")"
   ]
  }
 ],
 "metadata": {
  "kernelspec": {
   "display_name": "Python 3 (ipykernel)",
   "language": "python",
   "name": "python3"
  }
 },
 "nbformat": 4,
 "nbformat_minor": 5
}
