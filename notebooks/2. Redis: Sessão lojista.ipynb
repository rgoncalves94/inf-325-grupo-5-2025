{
 "cells": [
  {
   "cell_type": "markdown",
   "id": "d46bef6b-d156-4cc4-9bf6-cb87ce1f7995",
   "metadata": {},
   "source": [
    "# Redis: Sessão do lojista"
   ]
  },
  {
   "cell_type": "markdown",
   "id": "134e5dee-aab7-4a6d-91ba-81004fe1cce3",
   "metadata": {},
   "source": [
    "### Conexão com o Redis"
   ]
  },
  {
   "cell_type": "code",
   "execution_count": 1,
   "id": "293e55ef-78f5-463a-a0ad-670b984f7757",
   "metadata": {},
   "outputs": [],
   "source": [
    "import redis\n",
    "conn_redis = redis.Redis(host = 'redis', port=6379)"
   ]
  },
  {
   "cell_type": "code",
   "execution_count": 2,
   "id": "6adbcc53-c3d5-4122-b707-454e4b96b21b",
   "metadata": {},
   "outputs": [],
   "source": [
    "# Token de sessão simulado: SESSION_ABCDEF123456\n",
    "\n",
    "## Carregando dados na sessão pós login\n",
    "\n",
    "conn_redis.hset(\"sessions.SESSION_ABCDEF123456\", mapping={\n",
    "    \"lojista_id\": \"1\",\n",
    "    \"lojista_nome\": \"TecnoLoja LTDA.\", \n",
    "    \"lojista_dados_cadastrais\": \"foo bar\"\n",
    "});\n",
    "\n",
    "# TTL da sessão\n",
    "conn_redis.expire(\"sessions.SESSION_ABCDEF123456\", 3600);"
   ]
  },
  {
   "cell_type": "code",
   "execution_count": 5,
   "id": "228a90f7-e469-424e-b1f1-e434930b5535",
   "metadata": {},
   "outputs": [
    {
     "name": "stdout",
     "output_type": "stream",
     "text": [
      "Id do lojista: 1\n",
      "Nome do lojista: TecnoLoja LTDA.\n",
      "TTL restante: 3589\n"
     ]
    }
   ],
   "source": [
    "## Os dados abaixo serão exibidos em tela\n",
    "print(f\"Id do lojista: {conn_redis.hget(\"sessions.SESSION_ABCDEF123456\", \"lojista_id\").decode(\"utf-8\")}\")\n",
    "print(f\"Nome do lojista: {conn_redis.hget(\"sessions.SESSION_ABCDEF123456\", \"lojista_nome\").decode(\"utf-8\")}\")\n",
    "print(f\"TTL restante: {conn_redis.ttl(\"sessions.SESSION_ABCDEF123456\")}\")"
   ]
  }
 ],
 "metadata": {
  "kernelspec": {
   "display_name": "Python 3 (ipykernel)",
   "language": "python",
   "name": "python3"
  },
  "language_info": {
   "codemirror_mode": {
    "name": "ipython",
    "version": 3
   },
   "file_extension": ".py",
   "mimetype": "text/x-python",
   "name": "python",
   "nbconvert_exporter": "python",
   "pygments_lexer": "ipython3",
   "version": "3.12.11"
  }
 },
 "nbformat": 4,
 "nbformat_minor": 5
}
