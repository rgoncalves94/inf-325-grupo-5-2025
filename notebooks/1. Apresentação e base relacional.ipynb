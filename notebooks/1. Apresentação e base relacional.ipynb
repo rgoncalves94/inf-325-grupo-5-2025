{
 "cells": [
  {
   "cell_type": "markdown",
   "id": "afba19bf-e7e0-4bed-94c5-b26fe92deb56",
   "metadata": {},
   "source": [
    "# Painel do lojista - INF 325 - Grupo 5\n",
    "\n",
    "Este notebook cria uma base de dados para um marketplace. Aqui encontrará o modelo lógico da base de dados, representando a parte transacional do projeto.\n",
    "\n",
    "O arquivo está organizado da seguinte forma:\n",
    "\n",
    "- [1. Intro](#1-intro)\n",
    "- [2. Criação do banco de dados](#2-criação-do-banco-de-dados)\n",
    "    - [2.1. Criação das tabelas](#21-criação-das-tabelas)\n",
    "- [3. Inserindo Registros](#3-inserindo-registros)\n",
    "- [4. Queries usadas na feature/tela](#4-queries-usadas-na-featuretela)\n",
    "    - [QUERY 1: Listar Ultimos produtos vendidos por status, paginado](#query-1-listar-ultimos-produtos-vendidos-por-status-paginado)\n",
    "    - [QUERY 2: Listar Reclamações das compras, paginado](#query-2-listar-reclamações-das-compras-paginado)\n",
    "    - [QUERY 3: Saldo disponível e indisponível do lojista](#query-3-saldo-disponível-e-indisponível-do-lojista)\n",
    "- [5. Queries usadas p/ preencher tabelas no MongoDB (Jobs/ETLs)](#5-queries-usadas-p-preencher-tabelas-no-mongodb-jobsetls)\n",
    "    - [QUERY 4: Extrai totalizadores de vendas e avaliações agrupados dia-a-dia dado um um período (Big numbers) ](#query-4-extrai-totalizadores-de-vendas-e-avaliações-agrupados-dia-a-dia-dado-um-um-período-big-numbers)\n",
    "    - [QUERY 5: Extração de indicadores/recomendações para melhorias dos produtos ofertados (por perídodo)](#query-5-extração-de-indicadoresrecomendações-para-melhorias-dos-produtos-ofertados-por-perídodo)\n"
   ]
  },
  {
   "cell_type": "markdown",
   "id": "c8a930c3",
   "metadata": {},
   "source": [
    "## 1. Intro\n",
    "\n",
    "Este notebook visa modelar a parte transacional, com vendas realizadas por um lojista, produtos, as avaliações de seus produtos e também possíveis reclamações.\n",
    "\n",
    "O objetivo é, com base nesse modelo, criar as queries com os dados necessários para atender o protótipo proposto de um Painel do Lojista de marketplace.\n",
    "\n",
    "Abaixo é possível visualizá-lo:\n",
    "![Protótipo final](./assets/prototipo.png)\n",
    "[Excalidraw Protótipos](https://excalidraw.com/#json=jKsdPqAdqJDV9dO0XwtJM,41k5DmUXu2-aMrLpYgkfFg)"
   ]
  },
  {
   "cell_type": "markdown",
   "id": "cf97be2c-43b5-47bb-9f11-346f6351b9a1",
   "metadata": {},
   "source": [
    "## 2. Criação do banco de dados"
   ]
  },
  {
   "cell_type": "code",
   "execution_count": null,
   "id": "f3ab8de3",
   "metadata": {
    "vscode": {
     "languageId": "sql"
    }
   },
   "outputs": [
    {
     "data": {
      "text/html": [
       "Query OK"
      ]
     },
     "metadata": {},
     "output_type": "display_data"
    }
   ],
   "source": [
    "-- resolver problemas em tempo de desenvolvimento (ignore se for a primeira execução, se quiser) \n",
    "DROP DATABASE IF EXISTS `marketplace_db`;\n"
   ]
  },
  {
   "cell_type": "markdown",
   "id": "38701f46",
   "metadata": {},
   "source": [
    "### 2.1 Criação da base de dados"
   ]
  },
  {
   "cell_type": "code",
   "execution_count": null,
   "id": "eae37c66",
   "metadata": {
    "vscode": {
     "languageId": "sql"
    }
   },
   "outputs": [],
   "source": [
    "-- Criação do Banco de Dados\n",
    "CREATE DATABASE IF NOT EXISTS `marketplace_db`;\n",
    "USE `marketplace_db`;"
   ]
  },
  {
   "cell_type": "markdown",
   "id": "f3452a05",
   "metadata": {},
   "source": [
    "### 2.1 Criação das tabelas"
   ]
  },
  {
   "cell_type": "code",
   "execution_count": null,
   "id": "fb24986b-2e18-4649-89fc-2360b666efb1",
   "metadata": {
    "vscode": {
     "languageId": "sql"
    }
   },
   "outputs": [
    {
     "data": {
      "text/html": [
       "Query OK"
      ]
     },
     "metadata": {},
     "output_type": "display_data"
    }
   ],
   "source": [
    "-- -----------------------------------------------------\n",
    "-- Tabela `lojistas`\n",
    "-- -----------------------------------------------------\n",
    "CREATE TABLE IF NOT EXISTS `lojistas` (\n",
    "  `id` INT NOT NULL AUTO_INCREMENT,\n",
    "  `nome` VARCHAR(255) NOT NULL,\n",
    "  `email` VARCHAR(255) NOT NULL UNIQUE,\n",
    "  `dados_cadastrais` VARCHAR(255) NULL,\n",
    "  PRIMARY KEY (`id`));\n",
    "\n",
    "-- -----------------------------------------------------\n",
    "-- Tabela `clientes`\n",
    "-- -----------------------------------------------------\n",
    "CREATE TABLE IF NOT EXISTS `clientes` (\n",
    "  `id` INT NOT NULL AUTO_INCREMENT,\n",
    "  `nome` VARCHAR(255) NOT NULL,\n",
    "  `email` VARCHAR(255) NOT NULL UNIQUE,\n",
    "  `perfil` VARCHAR(45) NOT NULL DEFAULT 'padrão',\n",
    "  `endereco_entrega` VARCHAR(255) NULL,\n",
    "  PRIMARY KEY (`id`));\n",
    "\n",
    "-- -----------------------------------------------------\n",
    "-- Tabela `categorias`\n",
    "-- -----------------------------------------------------\n",
    "CREATE TABLE IF NOT EXISTS `categorias` (\n",
    "  `id` INT NOT NULL AUTO_INCREMENT,\n",
    "  `nome` VARCHAR(255) NOT NULL,\n",
    "  PRIMARY KEY (`id`));\n",
    "\n",
    "-- -----------------------------------------------------\n",
    "-- Tabela `produtos`\n",
    "-- -----------------------------------------------------\n",
    "CREATE TABLE IF NOT EXISTS `produtos` (\n",
    "  `id` INT NOT NULL AUTO_INCREMENT,\n",
    "  `nome` VARCHAR(255) NOT NULL,\n",
    "  `preco` DECIMAL(10,2) NOT NULL,\n",
    "  `estoque` INT NOT NULL DEFAULT 0,\n",
    "  `lojista_id` INT NOT NULL,\n",
    "  `descricao` TEXT(4000) NULL,\n",
    "  PRIMARY KEY (`id`),\n",
    "  CONSTRAINT `fk_produtos_lojistas`\n",
    "    FOREIGN KEY (`lojista_id`)\n",
    "    REFERENCES `lojistas` (`id`)\n",
    ");\n",
    "\n",
    "-- -----------------------------------------------------\n",
    "-- Tabela associativa `produtos_categorias`\n",
    "-- -----------------------------------------------------\n",
    "CREATE TABLE IF NOT EXISTS `produtos_categorias` (\n",
    "  `produto_id` INT NOT NULL,\n",
    "  `categoria_id` INT NOT NULL,\n",
    "  PRIMARY KEY (`produto_id`, `categoria_id`),\n",
    "  CONSTRAINT `fk_prodcat_produtos`\n",
    "    FOREIGN KEY (`produto_id`)\n",
    "    REFERENCES `produtos` (`id`),\n",
    "  CONSTRAINT `fk_prodcat_categorias`\n",
    "    FOREIGN KEY (`categoria_id`)\n",
    "    REFERENCES `categorias` (`id`)\n",
    ");\n",
    "\n",
    "-- -----------------------------------------------------\n",
    "-- Tabela `pedidos`\n",
    "-- -----------------------------------------------------\n",
    "CREATE TABLE IF NOT EXISTS `pedidos` (\n",
    "  `id` INT NOT NULL AUTO_INCREMENT,\n",
    "  `cliente_id` INT NOT NULL,\n",
    "  `data` DATETIME NOT NULL,\n",
    "  `status` VARCHAR(45) NOT NULL,\n",
    "  PRIMARY KEY (`id`),\n",
    "  CONSTRAINT `fk_pedidos_clientes`\n",
    "    FOREIGN KEY (`cliente_id`)\n",
    "    REFERENCES `clientes` (`id`)\n",
    ");\n",
    "\n",
    "-- -----------------------------------------------------\n",
    "-- Tabela `itens_pedidos`\n",
    "-- -----------------------------------------------------\n",
    "CREATE TABLE IF NOT EXISTS `itens_pedidos` (\n",
    "  `pedido_id` INT NOT NULL,\n",
    "  `produto_id` INT NOT NULL,\n",
    "  `quantidade` INT NOT NULL,\n",
    "  `preco_unitario` DECIMAL(10,2) NOT NULL,\n",
    "  PRIMARY KEY (`pedido_id`, `produto_id`),\n",
    "  CONSTRAINT `fk_itens_pedidos`\n",
    "    FOREIGN KEY (`pedido_id`)\n",
    "    REFERENCES `pedidos` (`id`),\n",
    "  CONSTRAINT `fk_itens_produtos`\n",
    "    FOREIGN KEY (`produto_id`)\n",
    "    REFERENCES `produtos` (`id`)\n",
    ");\n",
    "\n",
    "-- -----------------------------------------------------\n",
    "-- Tabela `Avaliacoes`\n",
    "-- -----------------------------------------------------\n",
    "CREATE TABLE IF NOT EXISTS `avaliacoes` (\n",
    "  `id` INT NOT NULL AUTO_INCREMENT,\n",
    "  `cliente_id` INT NOT NULL,\n",
    "  `produto_id` INT NOT NULL,\n",
    "  `nota` INT NOT NULL,\n",
    "  `comentario` TEXT NULL,\n",
    "  `data` DATETIME NOT NULL,\n",
    "  PRIMARY KEY (`id`),\n",
    "  CONSTRAINT `fk_avaliacoes_clientes`\n",
    "    FOREIGN KEY (`cliente_id`)\n",
    "    REFERENCES `clientes` (`id`),\n",
    "  CONSTRAINT `fk_avaliacoes_produtos`\n",
    "    FOREIGN KEY (`produto_id`)\n",
    "    REFERENCES `produtos` (`id`)\n",
    ");\n",
    "\n",
    "-- -----------------------------------------------------\n",
    "-- Tabela `precos`\n",
    "-- -----------------------------------------------------\n",
    "CREATE TABLE IF NOT EXISTS `precos` (\n",
    "  `id` INT NOT NULL AUTO_INCREMENT,\n",
    "  `produto_id` INT NOT NULL,\n",
    "  `valor` DECIMAL(10,2) NOT NULL,\n",
    "  `tipo_preco` VARCHAR(45) NOT NULL,\n",
    "  `data_inicio_vigencia` DATE NOT NULL,\n",
    "  `data_fim_vigencia` DATE NULL,\n",
    "  `ativo` BOOLEAN NOT NULL,\n",
    "  `data_criacao` TIMESTAMP NOT NULL DEFAULT CURRENT_TIMESTAMP,\n",
    "  PRIMARY KEY (`id`),\n",
    "  CONSTRAINT `fk_precos_produtos`\n",
    "    FOREIGN KEY (`produto_id`)\n",
    "    REFERENCES `produtos` (`id`)\n",
    ");\n",
    "\n",
    "-- -----------------------------------------------------\n",
    "-- Tabela `reclamacoes`\n",
    "-- -----------------------------------------------------\n",
    "CREATE TABLE IF NOT EXISTS `reclamacoes` (\n",
    "  `id` INT NOT NULL AUTO_INCREMENT,\n",
    "  `pedido_id` INT NOT NULL,\n",
    "  `produto_id` INT NOT NULL,\n",
    "  `titulo` VARCHAR(255) NOT NULL,\n",
    "  `texto` TEXT NULL,\n",
    "  `data` DATETIME NOT NULL,\n",
    "  PRIMARY KEY (`id`),\n",
    "  CONSTRAINT `fk_reclamacoes_pedidos`\n",
    "    FOREIGN KEY (`pedido_id`)\n",
    "    REFERENCES `pedidos` (`id`),\n",
    "  CONSTRAINT `fk_reclamacoes_produtos`\n",
    "    FOREIGN KEY (`produto_id`)\n",
    "    REFERENCES `produtos` (`id`)\n",
    ");\n",
    "\n",
    "-- -----------------------------------------------------\n",
    "-- Tabela `transacoes`\n",
    "-- -----------------------------------------------------\n",
    "CREATE TABLE IF NOT EXISTS `transacoes` (\n",
    "  `id` INT NOT NULL AUTO_INCREMENT,\n",
    "  `lojista_id` INT NOT NULL,\n",
    "  `valor` DECIMAL(10,2) NOT NULL,\n",
    "  `tipo` VARCHAR(45) NOT NULL,\n",
    "  `status` ENUM('Sacado', 'Disponível', 'Indisponível') NOT NULL DEFAULT 'Indisponível',\n",
    "  `data` DATETIME NOT NULL,\n",
    "  PRIMARY KEY (`id`),\n",
    "  CONSTRAINT `fk_transacoes_lojistas`\n",
    "    FOREIGN KEY (`lojista_id`)\n",
    "    REFERENCES `lojistas` (`id`)\n",
    ");\n"
   ]
  },
  {
   "cell_type": "markdown",
   "id": "0a4426f7",
   "metadata": {},
   "source": [
    "## 3. Inserindo registros"
   ]
  },
  {
   "cell_type": "code",
   "execution_count": 4,
   "id": "33fc63e0",
   "metadata": {
    "vscode": {
     "languageId": "sql"
    }
   },
   "outputs": [
    {
     "data": {
      "text/html": [
       "Query OK"
      ]
     },
     "metadata": {},
     "output_type": "display_data"
    }
   ],
   "source": [
    "-- Lojistas\n",
    "INSERT INTO `lojistas` (`nome`, `email`, `dados_cadastrais`) VALUES\n",
    "('TecnoLoja LTDA', 'contato@techcell.com', 'CNPJ: 12.345.678/0001-90'),\n",
    "('Casa & Eletro Premium', 'vendas@casaeletro.com', 'CNPJ: 23.456.789/0001-01'),\n",
    "('InfoWorld Solutions', 'atendimento@infoworld.com', 'CNPJ: 34.567.890/0001-12');\n",
    "\n",
    "-- Clientes\n",
    "INSERT INTO `clientes` (`nome`, `email`, `perfil`, `endereco_entrega`) VALUES\n",
    "('João Silva', 'joao.silva@email.com', 'padrão', 'Rua do Beco Diagonal, 93'), \n",
    "('Maria Oliveira', 'maria.oliveira@email.com', 'vip', 'Avenida Privet Drive, 4'),\n",
    "('Carlos Pereira', 'carlos.p@email.com', 'padrão', 'Rua Grimmauld Place, 12'), \n",
    "('Ana Costa', 'ana.costa@email.com', 'padrão', 'Travessa Godrics Hollow, 157'),\n",
    "('Pedro Martins', 'pedro.m@email.com', 'vip', 'Alameda Hogsmeade, 234'), \n",
    "('Sandra Ferreira', 'sandra.f@email.com', 'padrão', 'Rua Knockturn Alley, 66'),\n",
    "('Lucas Gomes', 'lucas.g@email.com', 'padrão', 'Avenida Spinners End, 89'), \n",
    "('Juliana Rodrigues', 'juliana.r@email.com', 'padrão', 'Rua Little Whinging, 321'),\n",
    "('Gabriel Almeida', 'gabriel.a@email.com', 'vip', 'Travessa Ottery St. Catchpole, 45'), \n",
    "('Beatriz Barbosa', 'beatriz.b@email.com', 'padrão', 'Rua Shell Cottage, 178'),\n",
    "('Marcos Souza', 'marcos.s@email.com', 'padrão', 'Alameda Diagon Alley, 412'), \n",
    "('Fernanda Lima', 'fernanda.l@email.com', 'padrão', 'Avenida Flourish and Blotts, 73'),\n",
    "('Rafael Nunes', 'rafael.n@email.com', 'padrão', 'Rua Olivanders, 298'), \n",
    "('Camila Santos', 'camila.s@email.com', 'vip', 'Travessa Gringotts, 156'),\n",
    "('Tiago Mendes', 'tiago.m@email.com', 'padrão', 'Rua Leaky Cauldron, 507'), \n",
    "('Larissa Castro', 'larissa.c@email.com', 'padrão', 'Alameda Madam Malkins, 84'),\n",
    "('Bruno Ribeiro', 'bruno.r@email.com', 'padrão', 'Avenida Quality Quidditch, 129'), \n",
    "('Patrícia Rocha', 'patricia.r@email.com', 'padrão', 'Rua Weasleys Wizard Wheezes, 365'),\n",
    "('Felipe Jesus', 'felipe.j@email.com', 'padrão', 'Travessa Borgin and Burkes, 241'), \n",
    "('Amanda Dias', 'amanda.d@email.com', 'vip', 'Rua Three Broomsticks, 192');\n",
    "\n",
    "-- Categorias (3 registros)\n",
    "INSERT INTO `categorias` (`nome`) VALUES\n",
    "('Eletrônicos'),\n",
    "('Eletrodomésticos'),\n",
    "('Informática');\n",
    "\n",
    "-- Produtos\n",
    "-- Lojista 1\n",
    "INSERT INTO `produtos` (`nome`, `preco`, `estoque`, `lojista_id`, `descricao`) VALUES\n",
    "('Galaxy S24 Ultra 512GB', 5899.90, 25, 1, 'Smartphone premium com câmera de 200MP e S Pen integrada'),\n",
    "('iPhone 15 Pro Max 512GB', 8999.00, 18, 1, 'iPhone mais avançado com chip A17 Pro e titânio'),\n",
    "('Xiaomi 14 Pro 256GB', 3299.90, 40, 1, 'Smartphone com Snapdragon 8 Gen 3 e câmera Leica'),\n",
    "('MacBook Air M3 16GB', 12999.00, 15, 1, 'Notebook ultraportátil com chip M3 e tela Liquid Retina'),\n",
    "('Desktop Gamer RTX 4080', 8499.90, 8, 1, 'PC Gamer completo com RTX 4080 e Ryzen 7 7800X3D');\n",
    "\n",
    "-- Lojista 2\n",
    "INSERT INTO `produtos` (`nome`, `preco`, `estoque`, `lojista_id`, `descricao`) VALUES\n",
    "('Galaxy S24 Ultra 512GB', 4499.90, 20, 2, 'Versão premium do Galaxy S24 Ultra com mais armazenamento'),\n",
    "('iPhone 15 Pro 256GB', 7999.00, 22, 2, 'iPhone 15 Pro com tecnologia Pro avançada'),\n",
    "('Geladeira Side by Side 540L', 4299.00, 12, 2, 'Geladeira com freezer lateral e dispenser de água'),\n",
    "('Lava e Seca 12kg Inverter', 3899.90, 10, 2, 'Lava e seca com tecnologia inverter e 15 programas'),\n",
    "('Micro-ondas 32L Inox', 899.90, 35, 2, 'Micro-ondas com grill e painel digital touch'),\n",
    "('Purificador de Ar HEPA', 1299.90, 25, 2, 'Purificador com filtro HEPA e ionizador');\n",
    "\n",
    "-- Lojista 3\n",
    "INSERT INTO `produtos` (`nome`, `preco`, `estoque`, `lojista_id`, `descricao`) VALUES\n",
    "('Galaxy S24 Ultra 512GB', 4299.90, 30, 3, 'Galaxy S24 Plus com tela de 6.7 polegadas e câmera avançada'),\n",
    "('Xiaomi 14 Ultra 512GB', 4199.90, 28, 3, 'Xiaomi 14 Ultra com câmera profissional Leica'),\n",
    "('Monitor Gamer 27\" 240Hz', 2499.90, 20, 3, 'Monitor QHD com alta taxa de atualização para gamers'),\n",
    "('Headset Gamer Wireless', 899.90, 45, 3, 'Headset sem fio com som surround 7.1 e RGB'),\n",
    "('Teclado Mecânico RGB', 599.90, 60, 3, 'Teclado mecânico com switches Cherry MX e iluminação RGB'),\n",
    "('Mouse Gamer 16000 DPI', 399.90, 80, 3, 'Mouse para jogos com sensor óptico de alta precisão');\n",
    "\n",
    "-- produtos_categorias\n",
    "INSERT INTO `produtos_categorias` (`produto_id`, `categoria_id`) VALUES\n",
    "-- Produtos do Lojista 1\n",
    "(1, 1),\n",
    "(2, 1),\n",
    "(3, 1),\n",
    "(4, 3),\n",
    "(5, 3),\n",
    "-- Produtos do Lojista 2\n",
    "(6, 1),\n",
    "(7, 1),\n",
    "(8, 2),\n",
    "(9, 2),\n",
    "(10, 2),\n",
    "(11, 2),\n",
    "-- Produtos do Lojista 3\n",
    "(12, 1),\n",
    "(13, 1),\n",
    "(14, 3),\n",
    "(15, 3),\n",
    "(16, 3),\n",
    "(17, 3);\n",
    "\n",
    "-- Pedidos com status \"Entregue\"\n",
    "INSERT INTO `pedidos` (`cliente_id`, `data`, `status`) VALUES\n",
    "(1, '2025-07-01 14:30:00', 'Entregue');\n",
    "INSERT INTO `itens_pedidos` (`pedido_id`, `produto_id`, `quantidade`, `preco_unitario`) VALUES\n",
    "(1, 1, 1, 4899.90);\n",
    "\n",
    "INSERT INTO `pedidos` (`cliente_id`, `data`, `status`) VALUES\n",
    "(2, '2025-07-02 10:15:00', 'Entregue');\n",
    "INSERT INTO `itens_pedidos` (`pedido_id`, `produto_id`, `quantidade`, `preco_unitario`) VALUES\n",
    "(2, 2, 1, 8999.00);\n",
    "\n",
    "INSERT INTO `pedidos` (`cliente_id`, `data`, `status`) VALUES\n",
    "(3, '2025-07-03 16:45:00', 'Entregue');\n",
    "INSERT INTO `itens_pedidos` (`pedido_id`, `produto_id`, `quantidade`, `preco_unitario`) VALUES\n",
    "(3, 3, 1, 3299.90);\n",
    "\n",
    "INSERT INTO `pedidos` (`cliente_id`, `data`, `status`) VALUES\n",
    "(4, '2025-07-04 09:20:00', 'Entregue');\n",
    "INSERT INTO `itens_pedidos` (`pedido_id`, `produto_id`, `quantidade`, `preco_unitario`) VALUES\n",
    "(4, 4, 1, 12999.00);\n",
    "\n",
    "INSERT INTO `pedidos` (`cliente_id`, `data`, `status`) VALUES\n",
    "(5, '2025-07-05 13:10:00', 'Entregue');\n",
    "INSERT INTO `itens_pedidos` (`pedido_id`, `produto_id`, `quantidade`, `preco_unitario`) VALUES\n",
    "(5, 5, 1, 8499.90);\n",
    "\n",
    "INSERT INTO `pedidos` (`cliente_id`, `data`, `status`) VALUES\n",
    "(6, '2025-07-06 11:00:00', 'Entregue');\n",
    "INSERT INTO `itens_pedidos` (`pedido_id`, `produto_id`, `quantidade`, `preco_unitario`) VALUES\n",
    "(6, 6, 1, 5499.90);\n",
    "\n",
    "INSERT INTO `pedidos` (`cliente_id`, `data`, `status`) VALUES\n",
    "(7, '2025-07-07 15:30:00', 'Entregue');\n",
    "INSERT INTO `itens_pedidos` (`pedido_id`, `produto_id`, `quantidade`, `preco_unitario`) VALUES\n",
    "(7, 7, 1, 7999.00);\n",
    "\n",
    "INSERT INTO `pedidos` (`cliente_id`, `data`, `status`) VALUES\n",
    "(8, '2025-07-08 08:45:00', 'Entregue');\n",
    "INSERT INTO `itens_pedidos` (`pedido_id`, `produto_id`, `quantidade`, `preco_unitario`) VALUES\n",
    "(8, 8, 1, 4299.00);\n",
    "\n",
    "INSERT INTO `pedidos` (`cliente_id`, `data`, `status`) VALUES\n",
    "(9, '2025-07-09 17:20:00', 'Entregue');\n",
    "INSERT INTO `itens_pedidos` (`pedido_id`, `produto_id`, `quantidade`, `preco_unitario`) VALUES\n",
    "(9, 9, 1, 3899.90);\n",
    "\n",
    "INSERT INTO `pedidos` (`cliente_id`, `data`, `status`) VALUES\n",
    "(10, '2025-07-10 12:15:00', 'Entregue');\n",
    "INSERT INTO `itens_pedidos` (`pedido_id`, `produto_id`, `quantidade`, `preco_unitario`) VALUES\n",
    "(10, 10, 1, 899.90);\n",
    "\n",
    "INSERT INTO `pedidos` (`cliente_id`, `data`, `status`) VALUES\n",
    "(11, '2025-07-11 14:50:00', 'Entregue');\n",
    "INSERT INTO `itens_pedidos` (`pedido_id`, `produto_id`, `quantidade`, `preco_unitario`) VALUES\n",
    "(11, 11, 1, 1299.90);\n",
    "\n",
    "INSERT INTO `pedidos` (`cliente_id`, `data`, `status`) VALUES\n",
    "(12, '2025-07-12 10:30:00', 'Entregue');\n",
    "INSERT INTO `itens_pedidos` (`pedido_id`, `produto_id`, `quantidade`, `preco_unitario`) VALUES\n",
    "(12, 12, 1, 4299.90);\n",
    "\n",
    "INSERT INTO `pedidos` (`cliente_id`, `data`, `status`) VALUES\n",
    "(13, '2025-07-13 16:00:00', 'Entregue');\n",
    "INSERT INTO `itens_pedidos` (`pedido_id`, `produto_id`, `quantidade`, `preco_unitario`) VALUES\n",
    "(13, 13, 1, 4199.90);\n",
    "\n",
    "INSERT INTO `pedidos` (`cliente_id`, `data`, `status`) VALUES\n",
    "(14, '2025-07-14 09:40:00', 'Entregue');\n",
    "INSERT INTO `itens_pedidos` (`pedido_id`, `produto_id`, `quantidade`, `preco_unitario`) VALUES\n",
    "(14, 14, 1, 2499.90);\n",
    "\n",
    "INSERT INTO `pedidos` (`cliente_id`, `data`, `status`) VALUES\n",
    "(15, '2025-07-15 13:25:00', 'Entregue');\n",
    "INSERT INTO `itens_pedidos` (`pedido_id`, `produto_id`, `quantidade`, `preco_unitario`) VALUES\n",
    "(15, 15, 1, 899.90);\n",
    "\n",
    "INSERT INTO `pedidos` (`cliente_id`, `data`, `status`) VALUES\n",
    "(16, '2025-07-16 11:10:00', 'Entregue');\n",
    "INSERT INTO `itens_pedidos` (`pedido_id`, `produto_id`, `quantidade`, `preco_unitario`) VALUES\n",
    "(16, 16, 1, 599.90);\n",
    "\n",
    "INSERT INTO `pedidos` (`cliente_id`, `data`, `status`) VALUES\n",
    "(17, '2025-07-17 15:55:00', 'Entregue');\n",
    "INSERT INTO `itens_pedidos` (`pedido_id`, `produto_id`, `quantidade`, `preco_unitario`) VALUES\n",
    "(17, 17, 1, 399.90);\n",
    "\n",
    "INSERT INTO `pedidos` (`cliente_id`, `data`, `status`) VALUES\n",
    "(18, '2025-07-18 09:30:00', 'Processando'),\n",
    "(19, '2025-07-18 14:20:00', 'Enviado'),\n",
    "(20, '2025-07-19 10:15:00', 'Cancelado'),\n",
    "(1, '2025-07-19 16:40:00', 'Processando'),\n",
    "(2, '2025-07-20 08:25:00', 'Enviado'),\n",
    "(3, '2025-07-20 13:50:00', 'Processando'),\n",
    "(4, '2025-07-21 11:30:00', 'Enviado'),\n",
    "(5, '2025-07-21 17:10:00', 'Cancelado'),\n",
    "(6, '2025-07-22 09:45:00', 'Processando'),\n",
    "(7, '2025-07-22 14:35:00', 'Enviado');\n",
    "\n",
    "INSERT INTO `itens_pedidos` (`pedido_id`, `produto_id`, `quantidade`, `preco_unitario`) VALUES\n",
    "(18, 3, 1, 3299.90),\n",
    "(19, 6, 1, 5499.90),\n",
    "(20, 14, 1, 2499.90),\n",
    "(21, 7, 1, 7999.00),\n",
    "(22, 11, 1, 1299.90),\n",
    "(23, 16, 2, 599.90),\n",
    "(24, 8, 1, 4299.00),\n",
    "(25, 13, 1, 4199.90),\n",
    "(26, 15, 1, 899.90),\n",
    "(27, 9, 1, 3899.90);\n",
    "\n",
    "-- Transações\n",
    "INSERT INTO `transacoes` (`lojista_id`, `valor`, `tipo`, `status`, `data`) VALUES\n",
    "(1, 4899.90, 'Venda', 'Sacado', '2025-07-01 14:35:00'),\n",
    "(1, 8999.00, 'Venda', 'Sacado', '2025-07-02 10:20:00'),\n",
    "(1, 3299.90, 'Venda', 'Sacado', '2025-07-03 16:50:00'),\n",
    "(1, 12999.00, 'Venda', 'Sacado', '2025-07-04 09:25:00'),\n",
    "(1, 8499.90, 'Venda', 'Sacado', '2025-07-05 13:15:00'),\n",
    "(2, 5499.90, 'Venda', 'Sacado', '2025-07-06 11:05:00'),\n",
    "(2, 7999.00, 'Venda', 'Sacado', '2025-07-07 15:35:00'),\n",
    "(2, 4299.00, 'Venda', 'Sacado', '2025-07-08 08:50:00'),\n",
    "(2, 3899.90, 'Venda', 'Sacado', '2025-07-09 17:25:00'),\n",
    "(2, 899.90, 'Venda', 'Disponível', '2025-07-10 12:20:00'),\n",
    "(2, 1299.90, 'Venda', 'Disponível', '2025-07-11 14:55:00'),\n",
    "(3, 4299.90, 'Venda', 'Disponível', '2025-07-12 10:35:00'),\n",
    "(3, 4199.90, 'Venda', 'Disponível', '2025-07-13 16:05:00'),\n",
    "(3, 2499.90, 'Venda', 'Disponível', '2025-07-14 09:45:00'),\n",
    "(3, 899.90, 'Venda', 'Disponível', '2025-07-15 13:30:00'),\n",
    "(3, 599.90, 'Venda', 'Disponível', '2025-07-16 11:15:00'),\n",
    "(3, 399.90, 'Venda', 'Disponível', '2025-07-17 16:00:00'),\n",
    "(1, 3299.90, 'Venda', 'Disponível', '2025-07-18 09:35:00'),\n",
    "(2, 5499.90, 'Venda', 'Indisponível', '2025-07-18 14:25:00'),\n",
    "(3, 2499.90, 'Venda', 'Indisponível', '2025-07-19 10:20:00'),\n",
    "(2, 7999.00, 'Venda', 'Indisponível', '2025-07-19 16:45:00'),\n",
    "(2, 1299.90, 'Venda', 'Indisponível', '2025-07-20 08:30:00'),\n",
    "(3, 1199.80, 'Venda', 'Indisponível', '2025-07-20 13:55:00'),\n",
    "(2, 4299.00, 'Venda', 'Indisponível', '2025-07-21 11:35:00'),\n",
    "(3, 4199.90, 'Venda', 'Indisponível', '2025-07-21 17:15:00'),\n",
    "(3, 899.90, 'Venda', 'Indisponível', '2025-07-22 09:50:00'),\n",
    "(2, 3899.90, 'Venda', 'Indisponível', '2025-07-22 14:40:00');\n",
    "\n",
    "-- Avaliações para produtos entregues\n",
    "-- Lojista 1\n",
    "INSERT INTO `avaliacoes` (`cliente_id`, `produto_id`, `nota`, `comentario`, `data`) VALUES\n",
    "(1, 1, 2, 'Produto chegou com arranhões e a bateria não dura nem meio dia. Muito decepcionante.', '2025-07-03 14:30:00'),\n",
    "(2, 2, 1, 'Péssima experiência! O celular travou no primeiro dia e o vendedor não responde.', '2025-07-04 10:15:00'),\n",
    "(3, 3, 2, 'Qualidade muito abaixo do esperado. A câmera não funciona direito e esquenta demais.', '2025-07-05 16:45:00'),\n",
    "(4, 4, 1, 'Notebook veio com defeito na tela e demora muito para ligar. Não recomendo.', '2025-07-06 09:20:00'),\n",
    "(5, 5, 2, 'PC gamer que não roda nem jogos básicos. Propaganda enganosa total.', '2025-07-07 13:10:00');\n",
    "\n",
    "-- Lojista 2\n",
    "INSERT INTO `avaliacoes` (`cliente_id`, `produto_id`, `nota`, `comentario`, `data`) VALUES\n",
    "(6, 6, 5, 'Produto incrível! Superou todas as expectativas, funciona perfeitamente.', '2025-07-08 11:00:00'),\n",
    "(7, 7, 4, 'Muito bom! Chegou rapidinho e exatamente como descrito. Recomendo.', '2025-07-09 15:30:00'),\n",
    "(8, 8, 5, 'Geladeira excelente! Silenciosa e muito espaçosa. Atendimento nota 10.', '2025-07-10 08:45:00'),\n",
    "(9, 9, 4, 'Ótima máquina! Lava e seca muito bem, programas variados. Estou satisfeito.', '2025-07-11 17:20:00'),\n",
    "(10, 10, 5, 'Micro-ondas fantástico! Funcionalidades excelentes e design bonito.', '2025-07-12 12:15:00'),\n",
    "(11, 11, 4, 'Purificador muito bom! Já notei diferença na qualidade do ar em casa.', '2025-07-13 14:50:00');\n",
    "\n",
    "-- Lojista 3\n",
    "INSERT INTO `avaliacoes` (`cliente_id`, `produto_id`, `nota`, `comentario`, `data`) VALUES\n",
    "(12, 12, 4, 'Ótimo celular! Câmera incrível e performance excelente. Recomendo muito.', '2025-07-14 10:30:00'),\n",
    "(13, 13, 5, 'Smartphone perfeito! Todas as funcionalidades funcionam perfeitamente.', '2025-07-15 16:00:00'),\n",
    "(14, 14, 5, 'Monitor sensacional para jogos! Cores vibrantes e sem delay. Adorei.', '2025-07-16 09:40:00'),\n",
    "(15, 15, 4, 'Headset muito bom! Som claro e confortável para longas sessões de jogo.', '2025-07-17 13:25:00'),\n",
    "(16, 16, 5, 'Teclado excelente! Teclas responsivas e iluminação linda. Vale cada centavo.', '2025-07-18 11:10:00'),\n",
    "(17, 17, 4, 'Mouse preciso e confortável! Perfeito para jogos competitivos.', '2025-07-19 15:55:00');\n",
    "\n",
    "-- Reclamações apenas para produtos do Lojista 1\n",
    "INSERT INTO `reclamacoes` (`pedido_id`, `produto_id`, `titulo`, `texto`, `data`) VALUES\n",
    "(1, 1, 'Produto com defeito de fábrica', 'O aparelho chegou com a tela trincada e arranhões na carcaça. Inaceitável pelo preço pago.', '2025-07-02 14:30:00'),\n",
    "(2, 2, 'Produto não funciona corretamente', 'O celular trava constantemente e não consegue nem fazer ligações direito. Quero meu dinheiro de volta.', '2025-07-03 10:15:00'),\n",
    "(3, 3, 'Qualidade inferior ao anunciado', 'A câmera não funciona e o aparelho esquenta muito. Nada do que foi prometido na descrição.', '2025-07-04 16:45:00'),\n",
    "(4, 4, 'Notebook com problemas graves', 'Tela com defeito, demora para ligar e trava durante o uso. Produto de péssima qualidade.', '2025-07-05 09:20:00'),\n",
    "(5, 5, 'PC gamer não roda jogos', 'Propaganda enganosa! O computador não consegue rodar nem jogos básicos. Performance ridícula.', '2025-07-06 13:10:00');\n",
    "\n",
    "-- Preços\n",
    "INSERT INTO `precos` (`produto_id`, `valor`, `tipo_preco`, `data_inicio_vigencia`, `ativo`) VALUES\n",
    "(1, 4899.90, 'Base', '2025-06-01', TRUE),\n",
    "(2, 8999.00, 'Base', '2025-06-01', TRUE),\n",
    "(3, 3299.90, 'Base', '2025-06-01', TRUE),\n",
    "(4, 12999.00, 'Base', '2025-06-01', TRUE),\n",
    "(5, 8499.90, 'Base', '2025-06-01', TRUE),\n",
    "(6, 5499.90, 'Base', '2025-06-01', TRUE),\n",
    "(7, 7999.00, 'Base', '2025-06-01', TRUE),\n",
    "(8, 4299.00, 'Base', '2025-06-01', TRUE),\n",
    "(9, 3899.90, 'Base', '2025-06-01', TRUE),\n",
    "(10, 899.90, 'Base', '2025-06-01', TRUE),\n",
    "(11, 1299.90, 'Base', '2025-06-01', TRUE),\n",
    "(12, 4299.90, 'Base', '2025-06-01', TRUE),\n",
    "(13, 4199.90, 'Base', '2025-06-01', TRUE),\n",
    "(14, 2499.90, 'Base', '2025-06-01', TRUE),\n",
    "(15, 899.90, 'Base', '2025-06-01', TRUE),\n",
    "(16, 599.90, 'Base', '2025-06-01', TRUE),\n",
    "(17, 399.90, 'Base', '2025-06-01', TRUE);"
   ]
  },
  {
   "cell_type": "markdown",
   "id": "eebf427d",
   "metadata": {},
   "source": [
    "## 4. Queries usadas na feature/tela"
   ]
  },
  {
   "cell_type": "markdown",
   "id": "0948b717-327b-4062-9dee-ac38523d26b1",
   "metadata": {},
   "source": [
    "### QUERY 1: Listar Ultimos produtos vendidos por status, paginado"
   ]
  },
  {
   "cell_type": "code",
   "execution_count": 5,
   "id": "c3ab8700-192b-4cae-a161-67da48d38535",
   "metadata": {
    "vscode": {
     "languageId": "sql"
    }
   },
   "outputs": [
    {
     "data": {
      "text/html": [
       "<html><body><table border=\"1\" style=\"margin-left: 0\"><tr><th style=\"text-align:left;white-space:pre\">data</th><th style=\"text-align:left;white-space:pre\">nome</th><th style=\"text-align:left;white-space:pre\">id</th><th style=\"text-align:left;white-space:pre\">status</th><th style=\"text-align:left;white-space:pre\">preco_unitario</th><th style=\"text-align:left;white-space:pre\">quantidade</th><th style=\"text-align:left;white-space:pre\">endereco_entrega</th></tr><tr><td style=\"text-align:left;white-space:pre\">2025-07-18 09:30:00</td><td style=\"text-align:left;white-space:pre\">Xiaomi 14 Pro 256GB</td><td style=\"text-align:left;white-space:pre\">18</td><td style=\"text-align:left;white-space:pre\">Processando</td><td style=\"text-align:left;white-space:pre\">3299.90</td><td style=\"text-align:left;white-space:pre\">1</td><td style=\"text-align:left;white-space:pre\">Rua Weasleys Wizard Wheezes, 365</td></tr><tr><td style=\"text-align:left;white-space:pre\">2025-07-05 13:10:00</td><td style=\"text-align:left;white-space:pre\">Desktop Gamer RTX 4080</td><td style=\"text-align:left;white-space:pre\">5</td><td style=\"text-align:left;white-space:pre\">Entregue</td><td style=\"text-align:left;white-space:pre\">8499.90</td><td style=\"text-align:left;white-space:pre\">1</td><td style=\"text-align:left;white-space:pre\">Alameda Hogsmeade, 234</td></tr><tr><td style=\"text-align:left;white-space:pre\">2025-07-04 09:20:00</td><td style=\"text-align:left;white-space:pre\">MacBook Air M3 16GB</td><td style=\"text-align:left;white-space:pre\">4</td><td style=\"text-align:left;white-space:pre\">Entregue</td><td style=\"text-align:left;white-space:pre\">12999.00</td><td style=\"text-align:left;white-space:pre\">1</td><td style=\"text-align:left;white-space:pre\">Travessa Godrics Hollow, 157</td></tr><tr><td style=\"text-align:left;white-space:pre\">2025-07-03 16:45:00</td><td style=\"text-align:left;white-space:pre\">Xiaomi 14 Pro 256GB</td><td style=\"text-align:left;white-space:pre\">3</td><td style=\"text-align:left;white-space:pre\">Entregue</td><td style=\"text-align:left;white-space:pre\">3299.90</td><td style=\"text-align:left;white-space:pre\">1</td><td style=\"text-align:left;white-space:pre\">Rua Grimmauld Place, 12</td></tr><tr><td style=\"text-align:left;white-space:pre\">2025-07-02 10:15:00</td><td style=\"text-align:left;white-space:pre\">iPhone 15 Pro Max 512GB</td><td style=\"text-align:left;white-space:pre\">2</td><td style=\"text-align:left;white-space:pre\">Entregue</td><td style=\"text-align:left;white-space:pre\">8999.00</td><td style=\"text-align:left;white-space:pre\">1</td><td style=\"text-align:left;white-space:pre\">Avenida Privet Drive, 4</td></tr><tr><td style=\"text-align:left;white-space:pre\">2025-07-01 14:30:00</td><td style=\"text-align:left;white-space:pre\">Galaxy S24 Ultra 512GB</td><td style=\"text-align:left;white-space:pre\">1</td><td style=\"text-align:left;white-space:pre\">Entregue</td><td style=\"text-align:left;white-space:pre\">4899.90</td><td style=\"text-align:left;white-space:pre\">1</td><td style=\"text-align:left;white-space:pre\">Rua do Beco Diagonal, 93</td></tr></table></body></html>"
      ]
     },
     "metadata": {},
     "output_type": "display_data"
    }
   ],
   "source": [
    "SELECT\n",
    "    ped.data, p.nome, ped.id, ped.status, ip.preco_unitario, ip.quantidade, c.endereco_entrega\n",
    "FROM\n",
    "    lojistas l\n",
    "JOIN produtos p ON l.id = p.lojista_id\n",
    "JOIN itens_pedidos ip ON p.id = ip.produto_id\n",
    "JOIN pedidos ped on ped.id = ip.pedido_id\n",
    "JOIN clientes c on c.id = ped.cliente_id\n",
    "WHERE \n",
    "    ped.status IN ('Processando', 'Cancelado', 'Entregue', 'Enviado')\n",
    "    AND l.id = 1 -- Dinâmico pela sessão do usuário\n",
    "ORDER BY\n",
    "    ped.data DESC\n",
    "limit 0,10;"
   ]
  },
  {
   "cell_type": "markdown",
   "id": "278cee49",
   "metadata": {},
   "source": [
    "### QUERY 2: Listar Reclamações das compras, paginado"
   ]
  },
  {
   "cell_type": "code",
   "execution_count": 6,
   "id": "be5873a4",
   "metadata": {
    "vscode": {
     "languageId": "sql"
    }
   },
   "outputs": [
    {
     "data": {
      "text/html": [
       "<html><body><table border=\"1\" style=\"margin-left: 0\"><tr><th style=\"text-align:left;white-space:pre\">lojista</th><th style=\"text-align:left;white-space:pre\">cliente_id</th><th style=\"text-align:left;white-space:pre\">cliente_ultimo_nome</th><th style=\"text-align:left;white-space:pre\">produto</th><th style=\"text-align:left;white-space:pre\">titulo</th><th style=\"text-align:left;white-space:pre\">texto</th><th style=\"text-align:left;white-space:pre\">data</th></tr><tr><td style=\"text-align:left;white-space:pre\">TecnoLoja LTDA</td><td style=\"text-align:left;white-space:pre\">5</td><td style=\"text-align:left;white-space:pre\">Sr(a). Martins</td><td style=\"text-align:left;white-space:pre\">Desktop Gamer RTX 4080</td><td style=\"text-align:left;white-space:pre\">PC gamer não roda jogos</td><td style=\"text-align:left;white-space:pre\">Propaganda enganosa! O computador não consegue rodar nem jogos básicos. Performance ridícula.</td><td style=\"text-align:left;white-space:pre\">2025-07-06 13:10:00</td></tr><tr><td style=\"text-align:left;white-space:pre\">TecnoLoja LTDA</td><td style=\"text-align:left;white-space:pre\">4</td><td style=\"text-align:left;white-space:pre\">Sr(a). Costa</td><td style=\"text-align:left;white-space:pre\">MacBook Air M3 16GB</td><td style=\"text-align:left;white-space:pre\">Notebook com problemas graves</td><td style=\"text-align:left;white-space:pre\">Tela com defeito, demora para ligar e trava durante o uso. Produto de péssima qualidade.</td><td style=\"text-align:left;white-space:pre\">2025-07-05 09:20:00</td></tr><tr><td style=\"text-align:left;white-space:pre\">TecnoLoja LTDA</td><td style=\"text-align:left;white-space:pre\">3</td><td style=\"text-align:left;white-space:pre\">Sr(a). Pereira</td><td style=\"text-align:left;white-space:pre\">Xiaomi 14 Pro 256GB</td><td style=\"text-align:left;white-space:pre\">Qualidade inferior ao anunciado</td><td style=\"text-align:left;white-space:pre\">A câmera não funciona e o aparelho esquenta muito. Nada do que foi prometido na descrição.</td><td style=\"text-align:left;white-space:pre\">2025-07-04 16:45:00</td></tr><tr><td style=\"text-align:left;white-space:pre\">TecnoLoja LTDA</td><td style=\"text-align:left;white-space:pre\">2</td><td style=\"text-align:left;white-space:pre\">Sr(a). Oliveira</td><td style=\"text-align:left;white-space:pre\">iPhone 15 Pro Max 512GB</td><td style=\"text-align:left;white-space:pre\">Produto não funciona corretamente</td><td style=\"text-align:left;white-space:pre\">O celular trava constantemente e não consegue nem fazer ligações direito. Quero meu dinheiro de volta.</td><td style=\"text-align:left;white-space:pre\">2025-07-03 10:15:00</td></tr><tr><td style=\"text-align:left;white-space:pre\">TecnoLoja LTDA</td><td style=\"text-align:left;white-space:pre\">1</td><td style=\"text-align:left;white-space:pre\">Sr(a). Silva</td><td style=\"text-align:left;white-space:pre\">Galaxy S24 Ultra 512GB</td><td style=\"text-align:left;white-space:pre\">Produto com defeito de fábrica</td><td style=\"text-align:left;white-space:pre\">O aparelho chegou com a tela trincada e arranhões na carcaça. Inaceitável pelo preço pago.</td><td style=\"text-align:left;white-space:pre\">2025-07-02 14:30:00</td></tr></table></body></html>"
      ]
     },
     "metadata": {},
     "output_type": "display_data"
    }
   ],
   "source": [
    "SELECT\n",
    "    l.nome lojista, c.id cliente_id, CONCAT('Sr(a). ', SUBSTRING_INDEX(c.nome, ' ', -1)) cliente_ultimo_nome, p.nome produto, r.titulo, r.texto, r.data\n",
    "FROM\n",
    "    lojistas l\n",
    "JOIN produtos p ON l.id = p.lojista_id\n",
    "JOIN itens_pedidos ip ON p.id = ip.produto_id\n",
    "JOIN pedidos ped on ped.id = ip.pedido_id\n",
    "JOIN clientes c on c.id = ped.cliente_id\n",
    "JOIN reclamacoes r on r.pedido_id = ip.pedido_id and r.produto_id = ip.produto_id\n",
    "WHERE \n",
    "    ped.status IN ('Entregue') \n",
    "    AND l.id = 1 -- Dinâmico pela sessão do usuário\n",
    "ORDER BY\n",
    "    ped.data DESC\n",
    "limit 0,10;"
   ]
  },
  {
   "cell_type": "markdown",
   "id": "3a2bbed6",
   "metadata": {},
   "source": [
    "### QUERY 3: Saldo disponível e indisponível do lojista"
   ]
  },
  {
   "cell_type": "code",
   "execution_count": 7,
   "id": "a4363911",
   "metadata": {
    "vscode": {
     "languageId": "sql"
    }
   },
   "outputs": [
    {
     "data": {
      "text/html": [
       "<html><body><table border=\"1\" style=\"margin-left: 0\"><tr><th style=\"text-align:left;white-space:pre\">status</th><th style=\"text-align:left;white-space:pre\">total</th></tr><tr><td style=\"text-align:left;white-space:pre\">Disponível</td><td style=\"text-align:left;white-space:pre\">2199.80</td></tr><tr><td style=\"text-align:left;white-space:pre\">Indisponível</td><td style=\"text-align:left;white-space:pre\">22997.70</td></tr></table></body></html>"
      ]
     },
     "metadata": {},
     "output_type": "display_data"
    }
   ],
   "source": [
    "SELECT t.status, SUM(t.valor) as total\n",
    "FROM transacoes t\n",
    "JOIN lojistas l on l.id = t.lojista_id\n",
    "WHERE \n",
    "    t.status != 'Sacado'\n",
    "    AND l.id = 2 -- Dinâmico pela sessão do usuário\n",
    "GROUP BY t.status;"
   ]
  },
  {
   "cell_type": "markdown",
   "id": "51b6a038",
   "metadata": {},
   "source": [
    "## 5. Queries usadas p/ preencher tabelas no MongoDB (Jobs/ETLs)\n",
    "\n",
    "**Premissa importante:** o mariadb deve ter uma replica readonly para execução dessas extrações, evitando impactar a base transacional."
   ]
  },
  {
   "cell_type": "markdown",
   "id": "b2563e26-4239-491a-93c9-6198aa9ba5f8",
   "metadata": {},
   "source": [
    "### QUERY 4: Extrai totalizadores de vendas e avaliações agrupados dia-a-dia dado um um período (Big numbers) "
   ]
  },
  {
   "cell_type": "code",
   "execution_count": 8,
   "id": "c816e00d-835c-4b72-bc5a-7e434e6cc5ba",
   "metadata": {
    "vscode": {
     "languageId": "sql"
    }
   },
   "outputs": [
    {
     "data": {
      "text/html": [
       "<html><body><table border=\"1\" style=\"margin-left: 0\"><tr><th style=\"text-align:left;white-space:pre\">data_execucao</th><th style=\"text-align:left;white-space:pre\">lojista_id</th><th style=\"text-align:left;white-space:pre\">lojista_nome</th><th style=\"text-align:left;white-space:pre\">tipo</th><th style=\"text-align:left;white-space:pre\">quantidade</th></tr><tr><td style=\"text-align:left;white-space:pre\">2025-07-01 14:30:00</td><td style=\"text-align:left;white-space:pre\">1</td><td style=\"text-align:left;white-space:pre\">TecnoLoja LTDA</td><td style=\"text-align:left;white-space:pre\">VENDAS</td><td style=\"text-align:left;white-space:pre\">1</td></tr><tr><td style=\"text-align:left;white-space:pre\">2025-07-02 10:15:00</td><td style=\"text-align:left;white-space:pre\">1</td><td style=\"text-align:left;white-space:pre\">TecnoLoja LTDA</td><td style=\"text-align:left;white-space:pre\">VENDAS</td><td style=\"text-align:left;white-space:pre\">1</td></tr><tr><td style=\"text-align:left;white-space:pre\">2025-07-03 14:30:00</td><td style=\"text-align:left;white-space:pre\">1</td><td style=\"text-align:left;white-space:pre\">TecnoLoja LTDA</td><td style=\"text-align:left;white-space:pre\">AVALIACOES</td><td style=\"text-align:left;white-space:pre\">1</td></tr><tr><td style=\"text-align:left;white-space:pre\">2025-07-03 16:45:00</td><td style=\"text-align:left;white-space:pre\">1</td><td style=\"text-align:left;white-space:pre\">TecnoLoja LTDA</td><td style=\"text-align:left;white-space:pre\">VENDAS</td><td style=\"text-align:left;white-space:pre\">1</td></tr><tr><td style=\"text-align:left;white-space:pre\">2025-07-04 09:20:00</td><td style=\"text-align:left;white-space:pre\">1</td><td style=\"text-align:left;white-space:pre\">TecnoLoja LTDA</td><td style=\"text-align:left;white-space:pre\">VENDAS</td><td style=\"text-align:left;white-space:pre\">1</td></tr><tr><td style=\"text-align:left;white-space:pre\">2025-07-04 10:15:00</td><td style=\"text-align:left;white-space:pre\">1</td><td style=\"text-align:left;white-space:pre\">TecnoLoja LTDA</td><td style=\"text-align:left;white-space:pre\">AVALIACOES</td><td style=\"text-align:left;white-space:pre\">1</td></tr><tr><td style=\"text-align:left;white-space:pre\">2025-07-05 13:10:00</td><td style=\"text-align:left;white-space:pre\">1</td><td style=\"text-align:left;white-space:pre\">TecnoLoja LTDA</td><td style=\"text-align:left;white-space:pre\">VENDAS</td><td style=\"text-align:left;white-space:pre\">1</td></tr><tr><td style=\"text-align:left;white-space:pre\">2025-07-05 16:45:00</td><td style=\"text-align:left;white-space:pre\">1</td><td style=\"text-align:left;white-space:pre\">TecnoLoja LTDA</td><td style=\"text-align:left;white-space:pre\">AVALIACOES</td><td style=\"text-align:left;white-space:pre\">1</td></tr><tr><td style=\"text-align:left;white-space:pre\">2025-07-06 09:20:00</td><td style=\"text-align:left;white-space:pre\">1</td><td style=\"text-align:left;white-space:pre\">TecnoLoja LTDA</td><td style=\"text-align:left;white-space:pre\">AVALIACOES</td><td style=\"text-align:left;white-space:pre\">1</td></tr><tr><td style=\"text-align:left;white-space:pre\">2025-07-06 11:00:00</td><td style=\"text-align:left;white-space:pre\">2</td><td style=\"text-align:left;white-space:pre\">Casa &amp; Eletro Premium</td><td style=\"text-align:left;white-space:pre\">VENDAS</td><td style=\"text-align:left;white-space:pre\">1</td></tr><tr><td style=\"text-align:left;white-space:pre\">2025-07-07 13:10:00</td><td style=\"text-align:left;white-space:pre\">1</td><td style=\"text-align:left;white-space:pre\">TecnoLoja LTDA</td><td style=\"text-align:left;white-space:pre\">AVALIACOES</td><td style=\"text-align:left;white-space:pre\">1</td></tr><tr><td style=\"text-align:left;white-space:pre\">2025-07-07 15:30:00</td><td style=\"text-align:left;white-space:pre\">2</td><td style=\"text-align:left;white-space:pre\">Casa &amp; Eletro Premium</td><td style=\"text-align:left;white-space:pre\">VENDAS</td><td style=\"text-align:left;white-space:pre\">1</td></tr><tr><td style=\"text-align:left;white-space:pre\">2025-07-08 08:45:00</td><td style=\"text-align:left;white-space:pre\">2</td><td style=\"text-align:left;white-space:pre\">Casa &amp; Eletro Premium</td><td style=\"text-align:left;white-space:pre\">VENDAS</td><td style=\"text-align:left;white-space:pre\">1</td></tr><tr><td style=\"text-align:left;white-space:pre\">2025-07-08 11:00:00</td><td style=\"text-align:left;white-space:pre\">2</td><td style=\"text-align:left;white-space:pre\">Casa &amp; Eletro Premium</td><td style=\"text-align:left;white-space:pre\">AVALIACOES</td><td style=\"text-align:left;white-space:pre\">1</td></tr><tr><td style=\"text-align:left;white-space:pre\">2025-07-09 15:30:00</td><td style=\"text-align:left;white-space:pre\">2</td><td style=\"text-align:left;white-space:pre\">Casa &amp; Eletro Premium</td><td style=\"text-align:left;white-space:pre\">AVALIACOES</td><td style=\"text-align:left;white-space:pre\">1</td></tr><tr><td style=\"text-align:left;white-space:pre\">2025-07-09 17:20:00</td><td style=\"text-align:left;white-space:pre\">2</td><td style=\"text-align:left;white-space:pre\">Casa &amp; Eletro Premium</td><td style=\"text-align:left;white-space:pre\">VENDAS</td><td style=\"text-align:left;white-space:pre\">1</td></tr><tr><td style=\"text-align:left;white-space:pre\">2025-07-10 08:45:00</td><td style=\"text-align:left;white-space:pre\">2</td><td style=\"text-align:left;white-space:pre\">Casa &amp; Eletro Premium</td><td style=\"text-align:left;white-space:pre\">AVALIACOES</td><td style=\"text-align:left;white-space:pre\">1</td></tr><tr><td style=\"text-align:left;white-space:pre\">2025-07-10 12:15:00</td><td style=\"text-align:left;white-space:pre\">2</td><td style=\"text-align:left;white-space:pre\">Casa &amp; Eletro Premium</td><td style=\"text-align:left;white-space:pre\">VENDAS</td><td style=\"text-align:left;white-space:pre\">1</td></tr><tr><td style=\"text-align:left;white-space:pre\">2025-07-11 14:50:00</td><td style=\"text-align:left;white-space:pre\">2</td><td style=\"text-align:left;white-space:pre\">Casa &amp; Eletro Premium</td><td style=\"text-align:left;white-space:pre\">VENDAS</td><td style=\"text-align:left;white-space:pre\">1</td></tr><tr><td style=\"text-align:left;white-space:pre\">2025-07-11 17:20:00</td><td style=\"text-align:left;white-space:pre\">2</td><td style=\"text-align:left;white-space:pre\">Casa &amp; Eletro Premium</td><td style=\"text-align:left;white-space:pre\">AVALIACOES</td><td style=\"text-align:left;white-space:pre\">1</td></tr><tr><td style=\"text-align:left;white-space:pre\">2025-07-12 10:30:00</td><td style=\"text-align:left;white-space:pre\">3</td><td style=\"text-align:left;white-space:pre\">InfoWorld Solutions</td><td style=\"text-align:left;white-space:pre\">VENDAS</td><td style=\"text-align:left;white-space:pre\">1</td></tr><tr><td style=\"text-align:left;white-space:pre\">2025-07-12 12:15:00</td><td style=\"text-align:left;white-space:pre\">2</td><td style=\"text-align:left;white-space:pre\">Casa &amp; Eletro Premium</td><td style=\"text-align:left;white-space:pre\">AVALIACOES</td><td style=\"text-align:left;white-space:pre\">1</td></tr><tr><td style=\"text-align:left;white-space:pre\">2025-07-13 14:50:00</td><td style=\"text-align:left;white-space:pre\">2</td><td style=\"text-align:left;white-space:pre\">Casa &amp; Eletro Premium</td><td style=\"text-align:left;white-space:pre\">AVALIACOES</td><td style=\"text-align:left;white-space:pre\">1</td></tr><tr><td style=\"text-align:left;white-space:pre\">2025-07-13 16:00:00</td><td style=\"text-align:left;white-space:pre\">3</td><td style=\"text-align:left;white-space:pre\">InfoWorld Solutions</td><td style=\"text-align:left;white-space:pre\">VENDAS</td><td style=\"text-align:left;white-space:pre\">1</td></tr><tr><td style=\"text-align:left;white-space:pre\">2025-07-14 09:40:00</td><td style=\"text-align:left;white-space:pre\">3</td><td style=\"text-align:left;white-space:pre\">InfoWorld Solutions</td><td style=\"text-align:left;white-space:pre\">VENDAS</td><td style=\"text-align:left;white-space:pre\">1</td></tr><tr><td style=\"text-align:left;white-space:pre\">2025-07-14 10:30:00</td><td style=\"text-align:left;white-space:pre\">3</td><td style=\"text-align:left;white-space:pre\">InfoWorld Solutions</td><td style=\"text-align:left;white-space:pre\">AVALIACOES</td><td style=\"text-align:left;white-space:pre\">1</td></tr><tr><td style=\"text-align:left;white-space:pre\">2025-07-15 13:25:00</td><td style=\"text-align:left;white-space:pre\">3</td><td style=\"text-align:left;white-space:pre\">InfoWorld Solutions</td><td style=\"text-align:left;white-space:pre\">VENDAS</td><td style=\"text-align:left;white-space:pre\">1</td></tr><tr><td style=\"text-align:left;white-space:pre\">2025-07-15 16:00:00</td><td style=\"text-align:left;white-space:pre\">3</td><td style=\"text-align:left;white-space:pre\">InfoWorld Solutions</td><td style=\"text-align:left;white-space:pre\">AVALIACOES</td><td style=\"text-align:left;white-space:pre\">1</td></tr><tr><td style=\"text-align:left;white-space:pre\">2025-07-16 09:40:00</td><td style=\"text-align:left;white-space:pre\">3</td><td style=\"text-align:left;white-space:pre\">InfoWorld Solutions</td><td style=\"text-align:left;white-space:pre\">AVALIACOES</td><td style=\"text-align:left;white-space:pre\">1</td></tr><tr><td style=\"text-align:left;white-space:pre\">2025-07-16 11:10:00</td><td style=\"text-align:left;white-space:pre\">3</td><td style=\"text-align:left;white-space:pre\">InfoWorld Solutions</td><td style=\"text-align:left;white-space:pre\">VENDAS</td><td style=\"text-align:left;white-space:pre\">1</td></tr><tr><td style=\"text-align:left;white-space:pre\">2025-07-17 13:25:00</td><td style=\"text-align:left;white-space:pre\">3</td><td style=\"text-align:left;white-space:pre\">InfoWorld Solutions</td><td style=\"text-align:left;white-space:pre\">AVALIACOES</td><td style=\"text-align:left;white-space:pre\">1</td></tr><tr><td style=\"text-align:left;white-space:pre\">2025-07-17 15:55:00</td><td style=\"text-align:left;white-space:pre\">3</td><td style=\"text-align:left;white-space:pre\">InfoWorld Solutions</td><td style=\"text-align:left;white-space:pre\">VENDAS</td><td style=\"text-align:left;white-space:pre\">1</td></tr><tr><td style=\"text-align:left;white-space:pre\">2025-07-18 09:30:00</td><td style=\"text-align:left;white-space:pre\">1</td><td style=\"text-align:left;white-space:pre\">TecnoLoja LTDA</td><td style=\"text-align:left;white-space:pre\">VENDAS</td><td style=\"text-align:left;white-space:pre\">1</td></tr><tr><td style=\"text-align:left;white-space:pre\">2025-07-18 11:10:00</td><td style=\"text-align:left;white-space:pre\">3</td><td style=\"text-align:left;white-space:pre\">InfoWorld Solutions</td><td style=\"text-align:left;white-space:pre\">AVALIACOES</td><td style=\"text-align:left;white-space:pre\">1</td></tr><tr><td style=\"text-align:left;white-space:pre\">2025-07-18 14:20:00</td><td style=\"text-align:left;white-space:pre\">2</td><td style=\"text-align:left;white-space:pre\">Casa &amp; Eletro Premium</td><td style=\"text-align:left;white-space:pre\">VENDAS</td><td style=\"text-align:left;white-space:pre\">1</td></tr><tr><td style=\"text-align:left;white-space:pre\">2025-07-19 10:15:00</td><td style=\"text-align:left;white-space:pre\">3</td><td style=\"text-align:left;white-space:pre\">InfoWorld Solutions</td><td style=\"text-align:left;white-space:pre\">VENDAS</td><td style=\"text-align:left;white-space:pre\">1</td></tr><tr><td style=\"text-align:left;white-space:pre\">2025-07-19 15:55:00</td><td style=\"text-align:left;white-space:pre\">3</td><td style=\"text-align:left;white-space:pre\">InfoWorld Solutions</td><td style=\"text-align:left;white-space:pre\">AVALIACOES</td><td style=\"text-align:left;white-space:pre\">1</td></tr><tr><td style=\"text-align:left;white-space:pre\">2025-07-19 16:40:00</td><td style=\"text-align:left;white-space:pre\">2</td><td style=\"text-align:left;white-space:pre\">Casa &amp; Eletro Premium</td><td style=\"text-align:left;white-space:pre\">VENDAS</td><td style=\"text-align:left;white-space:pre\">1</td></tr><tr><td style=\"text-align:left;white-space:pre\">2025-07-20 08:25:00</td><td style=\"text-align:left;white-space:pre\">2</td><td style=\"text-align:left;white-space:pre\">Casa &amp; Eletro Premium</td><td style=\"text-align:left;white-space:pre\">VENDAS</td><td style=\"text-align:left;white-space:pre\">1</td></tr><tr><td style=\"text-align:left;white-space:pre\">2025-07-20 13:50:00</td><td style=\"text-align:left;white-space:pre\">3</td><td style=\"text-align:left;white-space:pre\">InfoWorld Solutions</td><td style=\"text-align:left;white-space:pre\">VENDAS</td><td style=\"text-align:left;white-space:pre\">1</td></tr><tr><td style=\"text-align:left;white-space:pre\">2025-07-21 11:30:00</td><td style=\"text-align:left;white-space:pre\">2</td><td style=\"text-align:left;white-space:pre\">Casa &amp; Eletro Premium</td><td style=\"text-align:left;white-space:pre\">VENDAS</td><td style=\"text-align:left;white-space:pre\">1</td></tr><tr><td style=\"text-align:left;white-space:pre\">2025-07-21 17:10:00</td><td style=\"text-align:left;white-space:pre\">3</td><td style=\"text-align:left;white-space:pre\">InfoWorld Solutions</td><td style=\"text-align:left;white-space:pre\">VENDAS</td><td style=\"text-align:left;white-space:pre\">1</td></tr><tr><td style=\"text-align:left;white-space:pre\">2025-07-22 09:45:00</td><td style=\"text-align:left;white-space:pre\">3</td><td style=\"text-align:left;white-space:pre\">InfoWorld Solutions</td><td style=\"text-align:left;white-space:pre\">VENDAS</td><td style=\"text-align:left;white-space:pre\">1</td></tr><tr><td style=\"text-align:left;white-space:pre\">2025-07-22 14:35:00</td><td style=\"text-align:left;white-space:pre\">2</td><td style=\"text-align:left;white-space:pre\">Casa &amp; Eletro Premium</td><td style=\"text-align:left;white-space:pre\">VENDAS</td><td style=\"text-align:left;white-space:pre\">1</td></tr></table></body></html>"
      ]
     },
     "metadata": {},
     "output_type": "display_data"
    }
   ],
   "source": [
    "SELECT\n",
    "\tdata_execucao,\n",
    "\tlojista_id,\n",
    "\tlojista_nome,\n",
    "\ttipo,\n",
    "\tquantidade\n",
    "FROM\n",
    "\t(\n",
    "\tSELECT\n",
    "\t\tped.data data_execucao,\n",
    "\t\tl.id lojista_id,\n",
    "\t\tl.nome lojista_nome,\n",
    "\t\t'VENDAS' tipo,\n",
    "\t\tcount(ped.id) quantidade\n",
    "\tFROM\n",
    "\t\tlojistas l\n",
    "\tJOIN produtos p ON\n",
    "\t\tl.id = p.lojista_id\n",
    "\tJOIN itens_pedidos ip ON\n",
    "\t\tp.id = ip.produto_id\n",
    "\tJOIN pedidos ped ON\n",
    "\t\tped.id = ip.pedido_id\n",
    "\tWHERE\n",
    "\t\tped.status IN ('Processando', 'Cancelado', 'Entregue', 'Enviado')\n",
    "\t\tAND ped.data BETWEEN \"2025-06-01\" AND \"2025-07-30\" -- Dinâmico, com base no período requisitado na extração\n",
    "\tGROUP BY\n",
    "\t\tped.data,\n",
    "\t\tl.id,\n",
    "\t\tl.nome\n",
    "UNION\n",
    "\tSELECT\n",
    "\t\ta.data,\n",
    "\t\tl.id lojista_id,\n",
    "\t\tl.nome lojista_nome,\n",
    "\t\t'AVALIACOES' tipo,\n",
    "\t\tcount(a.id) quantidade\n",
    "\tFROM\n",
    "\t\tlojistas l\n",
    "\tJOIN produtos p ON\n",
    "\t\tl.id = p.lojista_id\n",
    "\tJOIN avaliacoes a ON\n",
    "\t\ta.produto_id = p.id\n",
    "\tWHERE\n",
    "\t\ta.data BETWEEN \"2025-06-01\" AND \"2025-07-30\" -- Dinâmico, com base no período requisitado na extração\n",
    "\tGROUP BY\n",
    "\t\ta.data,\n",
    "\t\tl.id,\n",
    "\t\tl.nome\n",
    ") contadores_diarios\n",
    "ORDER BY\n",
    "\tdata_execucao ASC;"
   ]
  },
  {
   "cell_type": "markdown",
   "id": "c67a11ef-77ea-4705-8ac6-de695626e376",
   "metadata": {},
   "source": [
    "### QUERY 5: Extração de indicadores/recomendações para melhorias dos produtos ofertados (por perídodo)\n",
    "\n",
    "Esta query extrai aspectos levantados na base transacional e expõe no mongo. Serão usados para criar recomendações para o lojista melhorar seus produtos.\n",
    "\n",
    "Os aspectos são:\n",
    "- **Boa descrição:** avaliado pela qtd de caracteres. O intuito é sugerir que o lojista descreva bem o item. (Uma descrição longa e bem escrita auxilia na decisão de compra - Premissa de que deve ser maior que 55 caracteres para poupar o tamanho dos inserts);\n",
    "- **Qtd de reclamações por x vendas:** Deveria possuir uma taxa de reclamação x venda igual ou inferior a 10%;\n",
    "- **Média de avaliação do produto:** É recomendado manter uma nota igual ou superior a 4.\n",
    "\n",
    "- **Executar avaliando um período, toda madrugada**."
   ]
  },
  {
   "cell_type": "code",
   "execution_count": 9,
   "id": "744bd187-350b-495d-8cb3-c335d2341560",
   "metadata": {
    "vscode": {
     "languageId": "sql"
    }
   },
   "outputs": [
    {
     "data": {
      "text/html": [
       "<html><body><table border=\"1\" style=\"margin-left: 0\"><tr><th style=\"text-align:left;white-space:pre\">lojista_id</th><th style=\"text-align:left;white-space:pre\">lojista_nome</th><th style=\"text-align:left;white-space:pre\">produto_id</th><th style=\"text-align:left;white-space:pre\">produto_nome</th><th style=\"text-align:left;white-space:pre\">tamanho_descricao</th><th style=\"text-align:left;white-space:pre\">tamanho_descricao_recomendado</th><th style=\"text-align:left;white-space:pre\">media_avaliacoes</th><th style=\"text-align:left;white-space:pre\">taxa_reclamacao_por_qtd_vendas</th><th style=\"text-align:left;white-space:pre\">revisado</th></tr><tr><td style=\"text-align:left;white-space:pre\">1</td><td style=\"text-align:left;white-space:pre\">TecnoLoja LTDA</td><td style=\"text-align:left;white-space:pre\">1</td><td style=\"text-align:left;white-space:pre\">Galaxy S24 Ultra 512GB</td><td style=\"text-align:left;white-space:pre\">57</td><td style=\"text-align:left;white-space:pre\">1</td><td style=\"text-align:left;white-space:pre\">2.0000</td><td style=\"text-align:left;white-space:pre\">100</td><td style=\"text-align:left;white-space:pre\">0</td></tr><tr><td style=\"text-align:left;white-space:pre\">1</td><td style=\"text-align:left;white-space:pre\">TecnoLoja LTDA</td><td style=\"text-align:left;white-space:pre\">2</td><td style=\"text-align:left;white-space:pre\">iPhone 15 Pro Max 512GB</td><td style=\"text-align:left;white-space:pre\">49</td><td style=\"text-align:left;white-space:pre\">0</td><td style=\"text-align:left;white-space:pre\">1.0000</td><td style=\"text-align:left;white-space:pre\">100</td><td style=\"text-align:left;white-space:pre\">0</td></tr><tr><td style=\"text-align:left;white-space:pre\">1</td><td style=\"text-align:left;white-space:pre\">TecnoLoja LTDA</td><td style=\"text-align:left;white-space:pre\">3</td><td style=\"text-align:left;white-space:pre\">Xiaomi 14 Pro 256GB</td><td style=\"text-align:left;white-space:pre\">49</td><td style=\"text-align:left;white-space:pre\">0</td><td style=\"text-align:left;white-space:pre\">2.0000</td><td style=\"text-align:left;white-space:pre\">50</td><td style=\"text-align:left;white-space:pre\">0</td></tr><tr><td style=\"text-align:left;white-space:pre\">1</td><td style=\"text-align:left;white-space:pre\">TecnoLoja LTDA</td><td style=\"text-align:left;white-space:pre\">4</td><td style=\"text-align:left;white-space:pre\">MacBook Air M3 16GB</td><td style=\"text-align:left;white-space:pre\">56</td><td style=\"text-align:left;white-space:pre\">1</td><td style=\"text-align:left;white-space:pre\">1.0000</td><td style=\"text-align:left;white-space:pre\">100</td><td style=\"text-align:left;white-space:pre\">0</td></tr><tr><td style=\"text-align:left;white-space:pre\">1</td><td style=\"text-align:left;white-space:pre\">TecnoLoja LTDA</td><td style=\"text-align:left;white-space:pre\">5</td><td style=\"text-align:left;white-space:pre\">Desktop Gamer RTX 4080</td><td style=\"text-align:left;white-space:pre\">48</td><td style=\"text-align:left;white-space:pre\">0</td><td style=\"text-align:left;white-space:pre\">2.0000</td><td style=\"text-align:left;white-space:pre\">100</td><td style=\"text-align:left;white-space:pre\">0</td></tr><tr><td style=\"text-align:left;white-space:pre\">2</td><td style=\"text-align:left;white-space:pre\">Casa &amp; Eletro Premium</td><td style=\"text-align:left;white-space:pre\">6</td><td style=\"text-align:left;white-space:pre\">Galaxy S24 Ultra 512GB</td><td style=\"text-align:left;white-space:pre\">58</td><td style=\"text-align:left;white-space:pre\">1</td><td style=\"text-align:left;white-space:pre\">5.0000</td><td style=\"text-align:left;white-space:pre\">0</td><td style=\"text-align:left;white-space:pre\">0</td></tr><tr><td style=\"text-align:left;white-space:pre\">2</td><td style=\"text-align:left;white-space:pre\">Casa &amp; Eletro Premium</td><td style=\"text-align:left;white-space:pre\">7</td><td style=\"text-align:left;white-space:pre\">iPhone 15 Pro 256GB</td><td style=\"text-align:left;white-space:pre\">42</td><td style=\"text-align:left;white-space:pre\">0</td><td style=\"text-align:left;white-space:pre\">4.0000</td><td style=\"text-align:left;white-space:pre\">0</td><td style=\"text-align:left;white-space:pre\">0</td></tr><tr><td style=\"text-align:left;white-space:pre\">2</td><td style=\"text-align:left;white-space:pre\">Casa &amp; Eletro Premium</td><td style=\"text-align:left;white-space:pre\">8</td><td style=\"text-align:left;white-space:pre\">Geladeira Side by Side 540L</td><td style=\"text-align:left;white-space:pre\">50</td><td style=\"text-align:left;white-space:pre\">0</td><td style=\"text-align:left;white-space:pre\">5.0000</td><td style=\"text-align:left;white-space:pre\">0</td><td style=\"text-align:left;white-space:pre\">0</td></tr><tr><td style=\"text-align:left;white-space:pre\">2</td><td style=\"text-align:left;white-space:pre\">Casa &amp; Eletro Premium</td><td style=\"text-align:left;white-space:pre\">9</td><td style=\"text-align:left;white-space:pre\">Lava e Seca 12kg Inverter</td><td style=\"text-align:left;white-space:pre\">50</td><td style=\"text-align:left;white-space:pre\">0</td><td style=\"text-align:left;white-space:pre\">4.0000</td><td style=\"text-align:left;white-space:pre\">0</td><td style=\"text-align:left;white-space:pre\">0</td></tr><tr><td style=\"text-align:left;white-space:pre\">2</td><td style=\"text-align:left;white-space:pre\">Casa &amp; Eletro Premium</td><td style=\"text-align:left;white-space:pre\">10</td><td style=\"text-align:left;white-space:pre\">Micro-ondas 32L Inox</td><td style=\"text-align:left;white-space:pre\">44</td><td style=\"text-align:left;white-space:pre\">0</td><td style=\"text-align:left;white-space:pre\">5.0000</td><td style=\"text-align:left;white-space:pre\">0</td><td style=\"text-align:left;white-space:pre\">0</td></tr><tr><td style=\"text-align:left;white-space:pre\">2</td><td style=\"text-align:left;white-space:pre\">Casa &amp; Eletro Premium</td><td style=\"text-align:left;white-space:pre\">11</td><td style=\"text-align:left;white-space:pre\">Purificador de Ar HEPA</td><td style=\"text-align:left;white-space:pre\">39</td><td style=\"text-align:left;white-space:pre\">0</td><td style=\"text-align:left;white-space:pre\">4.0000</td><td style=\"text-align:left;white-space:pre\">0</td><td style=\"text-align:left;white-space:pre\">0</td></tr><tr><td style=\"text-align:left;white-space:pre\">3</td><td style=\"text-align:left;white-space:pre\">InfoWorld Solutions</td><td style=\"text-align:left;white-space:pre\">12</td><td style=\"text-align:left;white-space:pre\">Galaxy S24 Ultra 512GB</td><td style=\"text-align:left;white-space:pre\">61</td><td style=\"text-align:left;white-space:pre\">1</td><td style=\"text-align:left;white-space:pre\">4.0000</td><td style=\"text-align:left;white-space:pre\">0</td><td style=\"text-align:left;white-space:pre\">0</td></tr><tr><td style=\"text-align:left;white-space:pre\">3</td><td style=\"text-align:left;white-space:pre\">InfoWorld Solutions</td><td style=\"text-align:left;white-space:pre\">13</td><td style=\"text-align:left;white-space:pre\">Xiaomi 14 Ultra 512GB</td><td style=\"text-align:left;white-space:pre\">46</td><td style=\"text-align:left;white-space:pre\">0</td><td style=\"text-align:left;white-space:pre\">5.0000</td><td style=\"text-align:left;white-space:pre\">0</td><td style=\"text-align:left;white-space:pre\">0</td></tr><tr><td style=\"text-align:left;white-space:pre\">3</td><td style=\"text-align:left;white-space:pre\">InfoWorld Solutions</td><td style=\"text-align:left;white-space:pre\">14</td><td style=\"text-align:left;white-space:pre\">Monitor Gamer 27\" 240Hz</td><td style=\"text-align:left;white-space:pre\">54</td><td style=\"text-align:left;white-space:pre\">0</td><td style=\"text-align:left;white-space:pre\">5.0000</td><td style=\"text-align:left;white-space:pre\">0</td><td style=\"text-align:left;white-space:pre\">0</td></tr><tr><td style=\"text-align:left;white-space:pre\">3</td><td style=\"text-align:left;white-space:pre\">InfoWorld Solutions</td><td style=\"text-align:left;white-space:pre\">15</td><td style=\"text-align:left;white-space:pre\">Headset Gamer Wireless</td><td style=\"text-align:left;white-space:pre\">42</td><td style=\"text-align:left;white-space:pre\">0</td><td style=\"text-align:left;white-space:pre\">4.0000</td><td style=\"text-align:left;white-space:pre\">0</td><td style=\"text-align:left;white-space:pre\">0</td></tr><tr><td style=\"text-align:left;white-space:pre\">3</td><td style=\"text-align:left;white-space:pre\">InfoWorld Solutions</td><td style=\"text-align:left;white-space:pre\">16</td><td style=\"text-align:left;white-space:pre\">Teclado Mecânico RGB</td><td style=\"text-align:left;white-space:pre\">59</td><td style=\"text-align:left;white-space:pre\">1</td><td style=\"text-align:left;white-space:pre\">5.0000</td><td style=\"text-align:left;white-space:pre\">0</td><td style=\"text-align:left;white-space:pre\">0</td></tr><tr><td style=\"text-align:left;white-space:pre\">3</td><td style=\"text-align:left;white-space:pre\">InfoWorld Solutions</td><td style=\"text-align:left;white-space:pre\">17</td><td style=\"text-align:left;white-space:pre\">Mouse Gamer 16000 DPI</td><td style=\"text-align:left;white-space:pre\">53</td><td style=\"text-align:left;white-space:pre\">0</td><td style=\"text-align:left;white-space:pre\">4.0000</td><td style=\"text-align:left;white-space:pre\">0</td><td style=\"text-align:left;white-space:pre\">0</td></tr></table></body></html>"
      ]
     },
     "metadata": {},
     "output_type": "display_data"
    }
   ],
   "source": [
    "SELECT\n",
    "\tl.id lojista_id,\n",
    "\tl.nome lojista_nome,\n",
    "\tp.id produto_id,\n",
    "\tp.nome produto_nome,\n",
    "\tLENGTH(p.descricao) tamanho_descricao,\n",
    "\tLENGTH(p.descricao) > 55 AS tamanho_descricao_recomendado,\n",
    "\t(\n",
    "\tSELECT\n",
    "\t\tavg(a.nota)\n",
    "\tFROM\n",
    "\t\tavaliacoes a\n",
    "\tWHERE\n",
    "\t\ta.produto_id = p.id) AS media_avaliacoes,\n",
    "\tROUND(IFNULL(\n",
    "(\n",
    "    SELECT count(r.id) \n",
    "    FROM reclamacoes r \n",
    "    JOIN itens_pedidos ip1 ON ip1.pedido_id = r.pedido_id\n",
    "    JOIN pedidos ped1 ON ped1.id = ip1.pedido_id\n",
    "    WHERE ip1.produto_id = p.id \n",
    "    AND r.data BETWEEN \"2025-06-01\" AND \"2025-07-30\" -- Dinâmico, com base no período requisitado na extração\n",
    ") / (\n",
    "    SELECT count(1) FROM itens_pedidos ip2\n",
    "    JOIN pedidos ped2 ON ped2.id = ip2.pedido_id\n",
    "    WHERE ip2.produto_id = p.id\n",
    "    AND ped2.data BETWEEN \"2025-06-01\" AND \"2025-07-30\" -- Dinâmico, com base no período requisitado na extração\n",
    ") * 100, 0)) as taxa_reclamacao_por_qtd_vendas,\n",
    "0 AS revisado\n",
    "FROM\n",
    "\tlojistas l\n",
    "JOIN produtos p ON\n",
    "\tl.id = p.lojista_id;"
   ]
  }
 ],
 "metadata": {
  "kernelspec": {
   "display_name": "MariaDB",
   "language": "SQL",
   "name": "mariadb_kernel"
  },
  "language_info": {
   "file_extension": ".sql",
   "mimetype": "text/plain",
   "name": "SQL"
  }
 },
 "nbformat": 4,
 "nbformat_minor": 5
}
